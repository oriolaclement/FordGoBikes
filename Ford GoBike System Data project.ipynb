{
 "cells": [
  {
   "cell_type": "markdown",
   "id": "093ea95e",
   "metadata": {},
   "source": [
    " ## Ford GoBike System Data exploration project\n",
    "#### BY Oriola Timilehin"
   ]
  },
  {
   "cell_type": "markdown",
   "id": "7b676166",
   "metadata": {},
   "source": [
    "## Table of Contents\n",
    " - Introduction\n",
    "     - Data Description\n",
    "     - Questions to be answered by analysis\n",
    " - Data Wrangling\n",
    "     - Data Gathering\n",
    "     - Data Assessing\n",
    "     - Data Cleaning\n",
    "     - Data Storage\n",
    " - Exploratory Data Analysis\n",
    "     - Univariate Exploration\n",
    "     - Bivariate Exploration\n",
    "     - MultiVariate Exploration\n",
    " - Conclusion"
   ]
  },
  {
   "cell_type": "markdown",
   "id": "d36fc15d",
   "metadata": {},
   "source": [
    " ## Introduction"
   ]
  },
  {
   "cell_type": "markdown",
   "id": "c0bd41f1",
   "metadata": {},
   "source": [
    " ### Data Description\n",
    " - This data set includes information about individual rides made in a bike-sharing system covering the greater San Francisco Bay area."
   ]
  },
  {
   "cell_type": "markdown",
   "id": "d7d219ed",
   "metadata": {},
   "source": [
    "## Questions for Analysis\n",
    "  - Which day of the week has the most trips?\n",
    "  - The top 10 Start Station with the most Rides?\n",
    "  - The top 10 Start Station with the least Rides?\n",
    "  - The top 10 End Station with the most Rides?\n",
    "  - The top 10 End Station with the least Rides?\n",
    "  - The most bicycle service users?\n",
    "  - How long does the average trip takes?"
   ]
  },
  {
   "cell_type": "markdown",
   "id": "080df115",
   "metadata": {},
   "source": [
    "## Data Wrangling"
   ]
  },
  {
   "cell_type": "markdown",
   "id": "7f511747",
   "metadata": {},
   "source": [
    " ### Data Gathering"
   ]
  },
  {
   "cell_type": "code",
   "execution_count": 1,
   "id": "cc665992",
   "metadata": {},
   "outputs": [],
   "source": [
    "#Importing important packages\n",
    "import numpy as np\n",
    "import pandas as pd\n",
    "import matplotlib.pyplot as plt\n",
    "import seaborn as sns\n",
    "import warnings\n",
    "warnings.filterwarnings('ignore')\n",
    "sns.set_style('darkgrid')\n",
    "%matplotlib inline"
   ]
  },
  {
   "cell_type": "code",
   "execution_count": 2,
   "id": "a5f9fbf6",
   "metadata": {},
   "outputs": [],
   "source": [
    "#Loading the dataset into pandas\n",
    "df = pd.read_csv('201902-fordgobike-tripdata.csv')"
   ]
  },
  {
   "cell_type": "markdown",
   "id": "48153a46",
   "metadata": {},
   "source": [
    "## Data Assessing"
   ]
  },
  {
   "cell_type": "code",
   "execution_count": 3,
   "id": "087396bc",
   "metadata": {},
   "outputs": [
    {
     "data": {
      "text/html": [
       "<div>\n",
       "<style scoped>\n",
       "    .dataframe tbody tr th:only-of-type {\n",
       "        vertical-align: middle;\n",
       "    }\n",
       "\n",
       "    .dataframe tbody tr th {\n",
       "        vertical-align: top;\n",
       "    }\n",
       "\n",
       "    .dataframe thead th {\n",
       "        text-align: right;\n",
       "    }\n",
       "</style>\n",
       "<table border=\"1\" class=\"dataframe\">\n",
       "  <thead>\n",
       "    <tr style=\"text-align: right;\">\n",
       "      <th></th>\n",
       "      <th>0</th>\n",
       "      <th>1</th>\n",
       "      <th>2</th>\n",
       "      <th>3</th>\n",
       "      <th>4</th>\n",
       "    </tr>\n",
       "  </thead>\n",
       "  <tbody>\n",
       "    <tr>\n",
       "      <th>duration_sec</th>\n",
       "      <td>52185</td>\n",
       "      <td>42521</td>\n",
       "      <td>61854</td>\n",
       "      <td>36490</td>\n",
       "      <td>1585</td>\n",
       "    </tr>\n",
       "    <tr>\n",
       "      <th>start_time</th>\n",
       "      <td>2019-02-28 17:32:10.1450</td>\n",
       "      <td>2019-02-28 18:53:21.7890</td>\n",
       "      <td>2019-02-28 12:13:13.2180</td>\n",
       "      <td>2019-02-28 17:54:26.0100</td>\n",
       "      <td>2019-02-28 23:54:18.5490</td>\n",
       "    </tr>\n",
       "    <tr>\n",
       "      <th>end_time</th>\n",
       "      <td>2019-03-01 08:01:55.9750</td>\n",
       "      <td>2019-03-01 06:42:03.0560</td>\n",
       "      <td>2019-03-01 05:24:08.1460</td>\n",
       "      <td>2019-03-01 04:02:36.8420</td>\n",
       "      <td>2019-03-01 00:20:44.0740</td>\n",
       "    </tr>\n",
       "    <tr>\n",
       "      <th>start_station_id</th>\n",
       "      <td>21.0</td>\n",
       "      <td>23.0</td>\n",
       "      <td>86.0</td>\n",
       "      <td>375.0</td>\n",
       "      <td>7.0</td>\n",
       "    </tr>\n",
       "    <tr>\n",
       "      <th>start_station_name</th>\n",
       "      <td>Montgomery St BART Station (Market St at 2nd St)</td>\n",
       "      <td>The Embarcadero at Steuart St</td>\n",
       "      <td>Market St at Dolores St</td>\n",
       "      <td>Grove St at Masonic Ave</td>\n",
       "      <td>Frank H Ogawa Plaza</td>\n",
       "    </tr>\n",
       "    <tr>\n",
       "      <th>start_station_latitude</th>\n",
       "      <td>37.789625</td>\n",
       "      <td>37.791464</td>\n",
       "      <td>37.769305</td>\n",
       "      <td>37.774836</td>\n",
       "      <td>37.804562</td>\n",
       "    </tr>\n",
       "    <tr>\n",
       "      <th>start_station_longitude</th>\n",
       "      <td>-122.400811</td>\n",
       "      <td>-122.391034</td>\n",
       "      <td>-122.426826</td>\n",
       "      <td>-122.446546</td>\n",
       "      <td>-122.271738</td>\n",
       "    </tr>\n",
       "    <tr>\n",
       "      <th>end_station_id</th>\n",
       "      <td>13.0</td>\n",
       "      <td>81.0</td>\n",
       "      <td>3.0</td>\n",
       "      <td>70.0</td>\n",
       "      <td>222.0</td>\n",
       "    </tr>\n",
       "    <tr>\n",
       "      <th>end_station_name</th>\n",
       "      <td>Commercial St at Montgomery St</td>\n",
       "      <td>Berry St at 4th St</td>\n",
       "      <td>Powell St BART Station (Market St at 4th St)</td>\n",
       "      <td>Central Ave at Fell St</td>\n",
       "      <td>10th Ave at E 15th St</td>\n",
       "    </tr>\n",
       "    <tr>\n",
       "      <th>end_station_latitude</th>\n",
       "      <td>37.794231</td>\n",
       "      <td>37.77588</td>\n",
       "      <td>37.786375</td>\n",
       "      <td>37.773311</td>\n",
       "      <td>37.792714</td>\n",
       "    </tr>\n",
       "    <tr>\n",
       "      <th>end_station_longitude</th>\n",
       "      <td>-122.402923</td>\n",
       "      <td>-122.39317</td>\n",
       "      <td>-122.404904</td>\n",
       "      <td>-122.444293</td>\n",
       "      <td>-122.24878</td>\n",
       "    </tr>\n",
       "    <tr>\n",
       "      <th>bike_id</th>\n",
       "      <td>4902</td>\n",
       "      <td>2535</td>\n",
       "      <td>5905</td>\n",
       "      <td>6638</td>\n",
       "      <td>4898</td>\n",
       "    </tr>\n",
       "    <tr>\n",
       "      <th>user_type</th>\n",
       "      <td>Customer</td>\n",
       "      <td>Customer</td>\n",
       "      <td>Customer</td>\n",
       "      <td>Subscriber</td>\n",
       "      <td>Subscriber</td>\n",
       "    </tr>\n",
       "    <tr>\n",
       "      <th>member_birth_year</th>\n",
       "      <td>1984.0</td>\n",
       "      <td>NaN</td>\n",
       "      <td>1972.0</td>\n",
       "      <td>1989.0</td>\n",
       "      <td>1974.0</td>\n",
       "    </tr>\n",
       "    <tr>\n",
       "      <th>member_gender</th>\n",
       "      <td>Male</td>\n",
       "      <td>NaN</td>\n",
       "      <td>Male</td>\n",
       "      <td>Other</td>\n",
       "      <td>Male</td>\n",
       "    </tr>\n",
       "    <tr>\n",
       "      <th>bike_share_for_all_trip</th>\n",
       "      <td>No</td>\n",
       "      <td>No</td>\n",
       "      <td>No</td>\n",
       "      <td>No</td>\n",
       "      <td>Yes</td>\n",
       "    </tr>\n",
       "  </tbody>\n",
       "</table>\n",
       "</div>"
      ],
      "text/plain": [
       "                                                                        0  \\\n",
       "duration_sec                                                        52185   \n",
       "start_time                                       2019-02-28 17:32:10.1450   \n",
       "end_time                                         2019-03-01 08:01:55.9750   \n",
       "start_station_id                                                     21.0   \n",
       "start_station_name       Montgomery St BART Station (Market St at 2nd St)   \n",
       "start_station_latitude                                          37.789625   \n",
       "start_station_longitude                                       -122.400811   \n",
       "end_station_id                                                       13.0   \n",
       "end_station_name                           Commercial St at Montgomery St   \n",
       "end_station_latitude                                            37.794231   \n",
       "end_station_longitude                                         -122.402923   \n",
       "bike_id                                                              4902   \n",
       "user_type                                                        Customer   \n",
       "member_birth_year                                                  1984.0   \n",
       "member_gender                                                        Male   \n",
       "bike_share_for_all_trip                                                No   \n",
       "\n",
       "                                                     1  \\\n",
       "duration_sec                                     42521   \n",
       "start_time                    2019-02-28 18:53:21.7890   \n",
       "end_time                      2019-03-01 06:42:03.0560   \n",
       "start_station_id                                  23.0   \n",
       "start_station_name       The Embarcadero at Steuart St   \n",
       "start_station_latitude                       37.791464   \n",
       "start_station_longitude                    -122.391034   \n",
       "end_station_id                                    81.0   \n",
       "end_station_name                    Berry St at 4th St   \n",
       "end_station_latitude                          37.77588   \n",
       "end_station_longitude                       -122.39317   \n",
       "bike_id                                           2535   \n",
       "user_type                                     Customer   \n",
       "member_birth_year                                  NaN   \n",
       "member_gender                                      NaN   \n",
       "bike_share_for_all_trip                             No   \n",
       "\n",
       "                                                                    2  \\\n",
       "duration_sec                                                    61854   \n",
       "start_time                                   2019-02-28 12:13:13.2180   \n",
       "end_time                                     2019-03-01 05:24:08.1460   \n",
       "start_station_id                                                 86.0   \n",
       "start_station_name                            Market St at Dolores St   \n",
       "start_station_latitude                                      37.769305   \n",
       "start_station_longitude                                   -122.426826   \n",
       "end_station_id                                                    3.0   \n",
       "end_station_name         Powell St BART Station (Market St at 4th St)   \n",
       "end_station_latitude                                        37.786375   \n",
       "end_station_longitude                                     -122.404904   \n",
       "bike_id                                                          5905   \n",
       "user_type                                                    Customer   \n",
       "member_birth_year                                              1972.0   \n",
       "member_gender                                                    Male   \n",
       "bike_share_for_all_trip                                            No   \n",
       "\n",
       "                                                3                         4  \n",
       "duration_sec                                36490                      1585  \n",
       "start_time               2019-02-28 17:54:26.0100  2019-02-28 23:54:18.5490  \n",
       "end_time                 2019-03-01 04:02:36.8420  2019-03-01 00:20:44.0740  \n",
       "start_station_id                            375.0                       7.0  \n",
       "start_station_name        Grove St at Masonic Ave       Frank H Ogawa Plaza  \n",
       "start_station_latitude                  37.774836                 37.804562  \n",
       "start_station_longitude               -122.446546               -122.271738  \n",
       "end_station_id                               70.0                     222.0  \n",
       "end_station_name           Central Ave at Fell St     10th Ave at E 15th St  \n",
       "end_station_latitude                    37.773311                 37.792714  \n",
       "end_station_longitude                 -122.444293                -122.24878  \n",
       "bike_id                                      6638                      4898  \n",
       "user_type                              Subscriber                Subscriber  \n",
       "member_birth_year                          1989.0                    1974.0  \n",
       "member_gender                               Other                      Male  \n",
       "bike_share_for_all_trip                        No                       Yes  "
      ]
     },
     "execution_count": 3,
     "metadata": {},
     "output_type": "execute_result"
    }
   ],
   "source": [
    "#Checking the first five row and checking in transpose form\n",
    "df.head().T"
   ]
  },
  {
   "cell_type": "code",
   "execution_count": 4,
   "id": "04cfe5d9",
   "metadata": {},
   "outputs": [
    {
     "data": {
      "text/html": [
       "<div>\n",
       "<style scoped>\n",
       "    .dataframe tbody tr th:only-of-type {\n",
       "        vertical-align: middle;\n",
       "    }\n",
       "\n",
       "    .dataframe tbody tr th {\n",
       "        vertical-align: top;\n",
       "    }\n",
       "\n",
       "    .dataframe thead th {\n",
       "        text-align: right;\n",
       "    }\n",
       "</style>\n",
       "<table border=\"1\" class=\"dataframe\">\n",
       "  <thead>\n",
       "    <tr style=\"text-align: right;\">\n",
       "      <th></th>\n",
       "      <th>43085</th>\n",
       "      <th>87775</th>\n",
       "      <th>80648</th>\n",
       "      <th>40442</th>\n",
       "      <th>154838</th>\n",
       "    </tr>\n",
       "  </thead>\n",
       "  <tbody>\n",
       "    <tr>\n",
       "      <th>duration_sec</th>\n",
       "      <td>661</td>\n",
       "      <td>360</td>\n",
       "      <td>205</td>\n",
       "      <td>487</td>\n",
       "      <td>724</td>\n",
       "    </tr>\n",
       "    <tr>\n",
       "      <th>start_time</th>\n",
       "      <td>2019-02-22 16:56:13.9080</td>\n",
       "      <td>2019-02-16 22:44:21.9110</td>\n",
       "      <td>2019-02-18 15:14:12.5440</td>\n",
       "      <td>2019-02-22 20:47:38.5560</td>\n",
       "      <td>2019-02-06 09:14:50.2970</td>\n",
       "    </tr>\n",
       "    <tr>\n",
       "      <th>end_time</th>\n",
       "      <td>2019-02-22 17:07:15.5140</td>\n",
       "      <td>2019-02-16 22:50:22.4420</td>\n",
       "      <td>2019-02-18 15:17:37.5970</td>\n",
       "      <td>2019-02-22 20:55:46.5350</td>\n",
       "      <td>2019-02-06 09:26:55.1380</td>\n",
       "    </tr>\n",
       "    <tr>\n",
       "      <th>start_station_id</th>\n",
       "      <td>30.0</td>\n",
       "      <td>74.0</td>\n",
       "      <td>256.0</td>\n",
       "      <td>266.0</td>\n",
       "      <td>139.0</td>\n",
       "    </tr>\n",
       "    <tr>\n",
       "      <th>start_station_name</th>\n",
       "      <td>San Francisco Caltrain (Townsend St at 4th St)</td>\n",
       "      <td>Laguna St at Hayes St</td>\n",
       "      <td>Hearst Ave at Euclid Ave</td>\n",
       "      <td>Parker St at Fulton St</td>\n",
       "      <td>Garfield Square (25th St at Harrison St)</td>\n",
       "    </tr>\n",
       "    <tr>\n",
       "      <th>start_station_latitude</th>\n",
       "      <td>37.776598</td>\n",
       "      <td>37.776435</td>\n",
       "      <td>37.875112</td>\n",
       "      <td>37.862464</td>\n",
       "      <td>37.751017</td>\n",
       "    </tr>\n",
       "    <tr>\n",
       "      <th>start_station_longitude</th>\n",
       "      <td>-122.395282</td>\n",
       "      <td>-122.426244</td>\n",
       "      <td>-122.260553</td>\n",
       "      <td>-122.264791</td>\n",
       "      <td>-122.411901</td>\n",
       "    </tr>\n",
       "    <tr>\n",
       "      <th>end_station_id</th>\n",
       "      <td>23.0</td>\n",
       "      <td>97.0</td>\n",
       "      <td>244.0</td>\n",
       "      <td>245.0</td>\n",
       "      <td>58.0</td>\n",
       "    </tr>\n",
       "    <tr>\n",
       "      <th>end_station_name</th>\n",
       "      <td>The Embarcadero at Steuart St</td>\n",
       "      <td>14th St at Mission St</td>\n",
       "      <td>Shattuck Ave at Hearst Ave</td>\n",
       "      <td>Downtown Berkeley BART</td>\n",
       "      <td>Market St at 10th St</td>\n",
       "    </tr>\n",
       "    <tr>\n",
       "      <th>end_station_latitude</th>\n",
       "      <td>37.791464</td>\n",
       "      <td>37.768265</td>\n",
       "      <td>37.873676</td>\n",
       "      <td>37.870139</td>\n",
       "      <td>37.776619</td>\n",
       "    </tr>\n",
       "    <tr>\n",
       "      <th>end_station_longitude</th>\n",
       "      <td>-122.391034</td>\n",
       "      <td>-122.42011</td>\n",
       "      <td>-122.268487</td>\n",
       "      <td>-122.268422</td>\n",
       "      <td>-122.417385</td>\n",
       "    </tr>\n",
       "    <tr>\n",
       "      <th>bike_id</th>\n",
       "      <td>1863</td>\n",
       "      <td>5017</td>\n",
       "      <td>6444</td>\n",
       "      <td>4678</td>\n",
       "      <td>1814</td>\n",
       "    </tr>\n",
       "    <tr>\n",
       "      <th>user_type</th>\n",
       "      <td>Subscriber</td>\n",
       "      <td>Subscriber</td>\n",
       "      <td>Subscriber</td>\n",
       "      <td>Customer</td>\n",
       "      <td>Subscriber</td>\n",
       "    </tr>\n",
       "    <tr>\n",
       "      <th>member_birth_year</th>\n",
       "      <td>1987.0</td>\n",
       "      <td>1991.0</td>\n",
       "      <td>1980.0</td>\n",
       "      <td>1994.0</td>\n",
       "      <td>1995.0</td>\n",
       "    </tr>\n",
       "    <tr>\n",
       "      <th>member_gender</th>\n",
       "      <td>Female</td>\n",
       "      <td>Male</td>\n",
       "      <td>Male</td>\n",
       "      <td>Female</td>\n",
       "      <td>Other</td>\n",
       "    </tr>\n",
       "    <tr>\n",
       "      <th>bike_share_for_all_trip</th>\n",
       "      <td>No</td>\n",
       "      <td>No</td>\n",
       "      <td>Yes</td>\n",
       "      <td>No</td>\n",
       "      <td>No</td>\n",
       "    </tr>\n",
       "  </tbody>\n",
       "</table>\n",
       "</div>"
      ],
      "text/plain": [
       "                                                                 43085   \\\n",
       "duration_sec                                                        661   \n",
       "start_time                                     2019-02-22 16:56:13.9080   \n",
       "end_time                                       2019-02-22 17:07:15.5140   \n",
       "start_station_id                                                   30.0   \n",
       "start_station_name       San Francisco Caltrain (Townsend St at 4th St)   \n",
       "start_station_latitude                                        37.776598   \n",
       "start_station_longitude                                     -122.395282   \n",
       "end_station_id                                                     23.0   \n",
       "end_station_name                          The Embarcadero at Steuart St   \n",
       "end_station_latitude                                          37.791464   \n",
       "end_station_longitude                                       -122.391034   \n",
       "bike_id                                                            1863   \n",
       "user_type                                                    Subscriber   \n",
       "member_birth_year                                                1987.0   \n",
       "member_gender                                                    Female   \n",
       "bike_share_for_all_trip                                              No   \n",
       "\n",
       "                                           87775                       80648   \\\n",
       "duration_sec                                  360                         205   \n",
       "start_time               2019-02-16 22:44:21.9110    2019-02-18 15:14:12.5440   \n",
       "end_time                 2019-02-16 22:50:22.4420    2019-02-18 15:17:37.5970   \n",
       "start_station_id                             74.0                       256.0   \n",
       "start_station_name          Laguna St at Hayes St    Hearst Ave at Euclid Ave   \n",
       "start_station_latitude                  37.776435                   37.875112   \n",
       "start_station_longitude               -122.426244                 -122.260553   \n",
       "end_station_id                               97.0                       244.0   \n",
       "end_station_name            14th St at Mission St  Shattuck Ave at Hearst Ave   \n",
       "end_station_latitude                    37.768265                   37.873676   \n",
       "end_station_longitude                  -122.42011                 -122.268487   \n",
       "bike_id                                      5017                        6444   \n",
       "user_type                              Subscriber                  Subscriber   \n",
       "member_birth_year                          1991.0                      1980.0   \n",
       "member_gender                                Male                        Male   \n",
       "bike_share_for_all_trip                        No                         Yes   \n",
       "\n",
       "                                           40442   \\\n",
       "duration_sec                                  487   \n",
       "start_time               2019-02-22 20:47:38.5560   \n",
       "end_time                 2019-02-22 20:55:46.5350   \n",
       "start_station_id                            266.0   \n",
       "start_station_name         Parker St at Fulton St   \n",
       "start_station_latitude                  37.862464   \n",
       "start_station_longitude               -122.264791   \n",
       "end_station_id                              245.0   \n",
       "end_station_name           Downtown Berkeley BART   \n",
       "end_station_latitude                    37.870139   \n",
       "end_station_longitude                 -122.268422   \n",
       "bike_id                                      4678   \n",
       "user_type                                Customer   \n",
       "member_birth_year                          1994.0   \n",
       "member_gender                              Female   \n",
       "bike_share_for_all_trip                        No   \n",
       "\n",
       "                                                           154838  \n",
       "duration_sec                                                  724  \n",
       "start_time                               2019-02-06 09:14:50.2970  \n",
       "end_time                                 2019-02-06 09:26:55.1380  \n",
       "start_station_id                                            139.0  \n",
       "start_station_name       Garfield Square (25th St at Harrison St)  \n",
       "start_station_latitude                                  37.751017  \n",
       "start_station_longitude                               -122.411901  \n",
       "end_station_id                                               58.0  \n",
       "end_station_name                             Market St at 10th St  \n",
       "end_station_latitude                                    37.776619  \n",
       "end_station_longitude                                 -122.417385  \n",
       "bike_id                                                      1814  \n",
       "user_type                                              Subscriber  \n",
       "member_birth_year                                          1995.0  \n",
       "member_gender                                               Other  \n",
       "bike_share_for_all_trip                                        No  "
      ]
     },
     "execution_count": 4,
     "metadata": {},
     "output_type": "execute_result"
    }
   ],
   "source": [
    "#Checking the rows randomly\n",
    "df.sample(5).T"
   ]
  },
  {
   "cell_type": "code",
   "execution_count": 5,
   "id": "ba0476ad",
   "metadata": {},
   "outputs": [
    {
     "name": "stdout",
     "output_type": "stream",
     "text": [
      "<class 'pandas.core.frame.DataFrame'>\n",
      "RangeIndex: 183412 entries, 0 to 183411\n",
      "Data columns (total 16 columns):\n",
      " #   Column                   Non-Null Count   Dtype  \n",
      "---  ------                   --------------   -----  \n",
      " 0   duration_sec             183412 non-null  int64  \n",
      " 1   start_time               183412 non-null  object \n",
      " 2   end_time                 183412 non-null  object \n",
      " 3   start_station_id         183215 non-null  float64\n",
      " 4   start_station_name       183215 non-null  object \n",
      " 5   start_station_latitude   183412 non-null  float64\n",
      " 6   start_station_longitude  183412 non-null  float64\n",
      " 7   end_station_id           183215 non-null  float64\n",
      " 8   end_station_name         183215 non-null  object \n",
      " 9   end_station_latitude     183412 non-null  float64\n",
      " 10  end_station_longitude    183412 non-null  float64\n",
      " 11  bike_id                  183412 non-null  int64  \n",
      " 12  user_type                183412 non-null  object \n",
      " 13  member_birth_year        175147 non-null  float64\n",
      " 14  member_gender            175147 non-null  object \n",
      " 15  bike_share_for_all_trip  183412 non-null  object \n",
      "dtypes: float64(7), int64(2), object(7)\n",
      "memory usage: 22.4+ MB\n"
     ]
    }
   ],
   "source": [
    "# Checking the attributes of our dataset\n",
    "df.info()"
   ]
  },
  {
   "cell_type": "code",
   "execution_count": 6,
   "id": "6a46eb03",
   "metadata": {},
   "outputs": [
    {
     "data": {
      "text/plain": [
       "(183412, 16)"
      ]
     },
     "execution_count": 6,
     "metadata": {},
     "output_type": "execute_result"
    }
   ],
   "source": [
    "#Checking the shape of our dataset\n",
    "df.shape"
   ]
  },
  {
   "cell_type": "code",
   "execution_count": 7,
   "id": "754d1598",
   "metadata": {},
   "outputs": [
    {
     "data": {
      "text/plain": [
       "0"
      ]
     },
     "execution_count": 7,
     "metadata": {},
     "output_type": "execute_result"
    }
   ],
   "source": [
    "#Checking for duplicates in our dataset\n",
    "df.duplicated().sum()"
   ]
  },
  {
   "cell_type": "code",
   "execution_count": 8,
   "id": "7ce0a831",
   "metadata": {},
   "outputs": [
    {
     "data": {
      "text/plain": [
       "duration_sec                 4752\n",
       "start_time                 183401\n",
       "end_time                   183397\n",
       "start_station_id              329\n",
       "start_station_name            329\n",
       "start_station_latitude        334\n",
       "start_station_longitude       335\n",
       "end_station_id                329\n",
       "end_station_name              329\n",
       "end_station_latitude          335\n",
       "end_station_longitude         335\n",
       "bike_id                      4646\n",
       "user_type                       2\n",
       "member_birth_year              75\n",
       "member_gender                   3\n",
       "bike_share_for_all_trip         2\n",
       "dtype: int64"
      ]
     },
     "execution_count": 8,
     "metadata": {},
     "output_type": "execute_result"
    }
   ],
   "source": [
    "#Checking for unique values\n",
    "df.nunique()"
   ]
  },
  {
   "cell_type": "code",
   "execution_count": 9,
   "id": "96f3126c",
   "metadata": {},
   "outputs": [
    {
     "data": {
      "text/plain": [
       "duration_sec                  0\n",
       "start_time                    0\n",
       "end_time                      0\n",
       "start_station_id            197\n",
       "start_station_name          197\n",
       "start_station_latitude        0\n",
       "start_station_longitude       0\n",
       "end_station_id              197\n",
       "end_station_name            197\n",
       "end_station_latitude          0\n",
       "end_station_longitude         0\n",
       "bike_id                       0\n",
       "user_type                     0\n",
       "member_birth_year          8265\n",
       "member_gender              8265\n",
       "bike_share_for_all_trip       0\n",
       "dtype: int64"
      ]
     },
     "execution_count": 9,
     "metadata": {},
     "output_type": "execute_result"
    }
   ],
   "source": [
    "#Checking for null values\n",
    "df.isnull().sum()"
   ]
  },
  {
   "cell_type": "code",
   "execution_count": 10,
   "id": "57bc3c48",
   "metadata": {},
   "outputs": [
    {
     "data": {
      "text/plain": [
       "Male      130651\n",
       "Female     40844\n",
       "Other       3652\n",
       "Name: member_gender, dtype: int64"
      ]
     },
     "execution_count": 10,
     "metadata": {},
     "output_type": "execute_result"
    }
   ],
   "source": [
    "# Checking the count of our member_gender\n",
    "df['member_gender'].value_counts()"
   ]
  },
  {
   "cell_type": "code",
   "execution_count": 11,
   "id": "999541e8",
   "metadata": {},
   "outputs": [
    {
     "data": {
      "text/html": [
       "<div>\n",
       "<style scoped>\n",
       "    .dataframe tbody tr th:only-of-type {\n",
       "        vertical-align: middle;\n",
       "    }\n",
       "\n",
       "    .dataframe tbody tr th {\n",
       "        vertical-align: top;\n",
       "    }\n",
       "\n",
       "    .dataframe thead th {\n",
       "        text-align: right;\n",
       "    }\n",
       "</style>\n",
       "<table border=\"1\" class=\"dataframe\">\n",
       "  <thead>\n",
       "    <tr style=\"text-align: right;\">\n",
       "      <th></th>\n",
       "      <th>count</th>\n",
       "      <th>unique</th>\n",
       "      <th>top</th>\n",
       "      <th>freq</th>\n",
       "    </tr>\n",
       "  </thead>\n",
       "  <tbody>\n",
       "    <tr>\n",
       "      <th>start_time</th>\n",
       "      <td>183412</td>\n",
       "      <td>183401</td>\n",
       "      <td>2019-02-25 08:52:07.5820</td>\n",
       "      <td>2</td>\n",
       "    </tr>\n",
       "    <tr>\n",
       "      <th>end_time</th>\n",
       "      <td>183412</td>\n",
       "      <td>183397</td>\n",
       "      <td>2019-02-11 08:03:22.6020</td>\n",
       "      <td>2</td>\n",
       "    </tr>\n",
       "    <tr>\n",
       "      <th>start_station_name</th>\n",
       "      <td>183215</td>\n",
       "      <td>329</td>\n",
       "      <td>Market St at 10th St</td>\n",
       "      <td>3904</td>\n",
       "    </tr>\n",
       "    <tr>\n",
       "      <th>end_station_name</th>\n",
       "      <td>183215</td>\n",
       "      <td>329</td>\n",
       "      <td>San Francisco Caltrain Station 2  (Townsend St...</td>\n",
       "      <td>4857</td>\n",
       "    </tr>\n",
       "    <tr>\n",
       "      <th>user_type</th>\n",
       "      <td>183412</td>\n",
       "      <td>2</td>\n",
       "      <td>Subscriber</td>\n",
       "      <td>163544</td>\n",
       "    </tr>\n",
       "    <tr>\n",
       "      <th>member_gender</th>\n",
       "      <td>175147</td>\n",
       "      <td>3</td>\n",
       "      <td>Male</td>\n",
       "      <td>130651</td>\n",
       "    </tr>\n",
       "    <tr>\n",
       "      <th>bike_share_for_all_trip</th>\n",
       "      <td>183412</td>\n",
       "      <td>2</td>\n",
       "      <td>No</td>\n",
       "      <td>166053</td>\n",
       "    </tr>\n",
       "  </tbody>\n",
       "</table>\n",
       "</div>"
      ],
      "text/plain": [
       "                          count  unique  \\\n",
       "start_time               183412  183401   \n",
       "end_time                 183412  183397   \n",
       "start_station_name       183215     329   \n",
       "end_station_name         183215     329   \n",
       "user_type                183412       2   \n",
       "member_gender            175147       3   \n",
       "bike_share_for_all_trip  183412       2   \n",
       "\n",
       "                                                                       top  \\\n",
       "start_time                                        2019-02-25 08:52:07.5820   \n",
       "end_time                                          2019-02-11 08:03:22.6020   \n",
       "start_station_name                                    Market St at 10th St   \n",
       "end_station_name         San Francisco Caltrain Station 2  (Townsend St...   \n",
       "user_type                                                       Subscriber   \n",
       "member_gender                                                         Male   \n",
       "bike_share_for_all_trip                                                 No   \n",
       "\n",
       "                           freq  \n",
       "start_time                    2  \n",
       "end_time                      2  \n",
       "start_station_name         3904  \n",
       "end_station_name           4857  \n",
       "user_type                163544  \n",
       "member_gender            130651  \n",
       "bike_share_for_all_trip  166053  "
      ]
     },
     "execution_count": 11,
     "metadata": {},
     "output_type": "execute_result"
    }
   ],
   "source": [
    "#Checking the summary statistics excluding numbers \n",
    "df.describe(exclude = 'number').T"
   ]
  },
  {
   "cell_type": "code",
   "execution_count": 12,
   "id": "fa0c1337",
   "metadata": {},
   "outputs": [
    {
     "data": {
      "text/html": [
       "<div>\n",
       "<style scoped>\n",
       "    .dataframe tbody tr th:only-of-type {\n",
       "        vertical-align: middle;\n",
       "    }\n",
       "\n",
       "    .dataframe tbody tr th {\n",
       "        vertical-align: top;\n",
       "    }\n",
       "\n",
       "    .dataframe thead th {\n",
       "        text-align: right;\n",
       "    }\n",
       "</style>\n",
       "<table border=\"1\" class=\"dataframe\">\n",
       "  <thead>\n",
       "    <tr style=\"text-align: right;\">\n",
       "      <th></th>\n",
       "      <th>count</th>\n",
       "      <th>mean</th>\n",
       "      <th>std</th>\n",
       "      <th>min</th>\n",
       "      <th>25%</th>\n",
       "      <th>50%</th>\n",
       "      <th>75%</th>\n",
       "      <th>max</th>\n",
       "    </tr>\n",
       "  </thead>\n",
       "  <tbody>\n",
       "    <tr>\n",
       "      <th>duration_sec</th>\n",
       "      <td>183412.0</td>\n",
       "      <td>726.078435</td>\n",
       "      <td>1794.389780</td>\n",
       "      <td>61.000000</td>\n",
       "      <td>325.000000</td>\n",
       "      <td>514.000000</td>\n",
       "      <td>796.000000</td>\n",
       "      <td>85444.000000</td>\n",
       "    </tr>\n",
       "    <tr>\n",
       "      <th>start_station_id</th>\n",
       "      <td>183215.0</td>\n",
       "      <td>138.590427</td>\n",
       "      <td>111.778864</td>\n",
       "      <td>3.000000</td>\n",
       "      <td>47.000000</td>\n",
       "      <td>104.000000</td>\n",
       "      <td>239.000000</td>\n",
       "      <td>398.000000</td>\n",
       "    </tr>\n",
       "    <tr>\n",
       "      <th>start_station_latitude</th>\n",
       "      <td>183412.0</td>\n",
       "      <td>37.771223</td>\n",
       "      <td>0.099581</td>\n",
       "      <td>37.317298</td>\n",
       "      <td>37.770083</td>\n",
       "      <td>37.780760</td>\n",
       "      <td>37.797280</td>\n",
       "      <td>37.880222</td>\n",
       "    </tr>\n",
       "    <tr>\n",
       "      <th>start_station_longitude</th>\n",
       "      <td>183412.0</td>\n",
       "      <td>-122.352664</td>\n",
       "      <td>0.117097</td>\n",
       "      <td>-122.453704</td>\n",
       "      <td>-122.412408</td>\n",
       "      <td>-122.398285</td>\n",
       "      <td>-122.286533</td>\n",
       "      <td>-121.874119</td>\n",
       "    </tr>\n",
       "    <tr>\n",
       "      <th>end_station_id</th>\n",
       "      <td>183215.0</td>\n",
       "      <td>136.249123</td>\n",
       "      <td>111.515131</td>\n",
       "      <td>3.000000</td>\n",
       "      <td>44.000000</td>\n",
       "      <td>100.000000</td>\n",
       "      <td>235.000000</td>\n",
       "      <td>398.000000</td>\n",
       "    </tr>\n",
       "    <tr>\n",
       "      <th>end_station_latitude</th>\n",
       "      <td>183412.0</td>\n",
       "      <td>37.771427</td>\n",
       "      <td>0.099490</td>\n",
       "      <td>37.317298</td>\n",
       "      <td>37.770407</td>\n",
       "      <td>37.781010</td>\n",
       "      <td>37.797320</td>\n",
       "      <td>37.880222</td>\n",
       "    </tr>\n",
       "    <tr>\n",
       "      <th>end_station_longitude</th>\n",
       "      <td>183412.0</td>\n",
       "      <td>-122.352250</td>\n",
       "      <td>0.116673</td>\n",
       "      <td>-122.453704</td>\n",
       "      <td>-122.411726</td>\n",
       "      <td>-122.398279</td>\n",
       "      <td>-122.288045</td>\n",
       "      <td>-121.874119</td>\n",
       "    </tr>\n",
       "    <tr>\n",
       "      <th>bike_id</th>\n",
       "      <td>183412.0</td>\n",
       "      <td>4472.906375</td>\n",
       "      <td>1664.383394</td>\n",
       "      <td>11.000000</td>\n",
       "      <td>3777.000000</td>\n",
       "      <td>4958.000000</td>\n",
       "      <td>5502.000000</td>\n",
       "      <td>6645.000000</td>\n",
       "    </tr>\n",
       "    <tr>\n",
       "      <th>member_birth_year</th>\n",
       "      <td>175147.0</td>\n",
       "      <td>1984.806437</td>\n",
       "      <td>10.116689</td>\n",
       "      <td>1878.000000</td>\n",
       "      <td>1980.000000</td>\n",
       "      <td>1987.000000</td>\n",
       "      <td>1992.000000</td>\n",
       "      <td>2001.000000</td>\n",
       "    </tr>\n",
       "  </tbody>\n",
       "</table>\n",
       "</div>"
      ],
      "text/plain": [
       "                            count         mean          std          min  \\\n",
       "duration_sec             183412.0   726.078435  1794.389780    61.000000   \n",
       "start_station_id         183215.0   138.590427   111.778864     3.000000   \n",
       "start_station_latitude   183412.0    37.771223     0.099581    37.317298   \n",
       "start_station_longitude  183412.0  -122.352664     0.117097  -122.453704   \n",
       "end_station_id           183215.0   136.249123   111.515131     3.000000   \n",
       "end_station_latitude     183412.0    37.771427     0.099490    37.317298   \n",
       "end_station_longitude    183412.0  -122.352250     0.116673  -122.453704   \n",
       "bike_id                  183412.0  4472.906375  1664.383394    11.000000   \n",
       "member_birth_year        175147.0  1984.806437    10.116689  1878.000000   \n",
       "\n",
       "                                 25%          50%          75%           max  \n",
       "duration_sec              325.000000   514.000000   796.000000  85444.000000  \n",
       "start_station_id           47.000000   104.000000   239.000000    398.000000  \n",
       "start_station_latitude     37.770083    37.780760    37.797280     37.880222  \n",
       "start_station_longitude  -122.412408  -122.398285  -122.286533   -121.874119  \n",
       "end_station_id             44.000000   100.000000   235.000000    398.000000  \n",
       "end_station_latitude       37.770407    37.781010    37.797320     37.880222  \n",
       "end_station_longitude    -122.411726  -122.398279  -122.288045   -121.874119  \n",
       "bike_id                  3777.000000  4958.000000  5502.000000   6645.000000  \n",
       "member_birth_year        1980.000000  1987.000000  1992.000000   2001.000000  "
      ]
     },
     "execution_count": 12,
     "metadata": {},
     "output_type": "execute_result"
    }
   ],
   "source": [
    "#Checking the summary statistics\n",
    "df.describe().T"
   ]
  },
  {
   "cell_type": "markdown",
   "id": "90f7565e",
   "metadata": {},
   "source": [
    " ### After assessing the following issues were observed:\n",
    " #### Quality\n",
    " - The duration_sec is in sec, it should be converted to minutes and rename to duration_min and check for outliers\n",
    " - Missing rows like start_station_id, start_station_name, end_station_id, and end_station_name, member_birth_year and member_gender should be dropped\n",
    " - The datatype of bike_id, start_station_id and end_station_id should be object\n",
    " - The user_type and member_gender should be changed to categorical data\n",
    " - Start_time and end_time will be changed to datetime datatype\n",
    " - The member_birth_year should be int64\n",
    " - The member_birth_year can be used to create a column for member_age which can be of great use for analysis and check for outliers\n",
    " #### Tidiness\n",
    " - Day, Month and Year should be extracted from the start_time and end_time into a separate column"
   ]
  },
  {
   "cell_type": "markdown",
   "id": "e93c0cdf",
   "metadata": {},
   "source": [
    " ## Data Cleaning"
   ]
  },
  {
   "cell_type": "code",
   "execution_count": 13,
   "id": "2f69d46d",
   "metadata": {},
   "outputs": [],
   "source": [
    "#Creating a copy of the dataset before cleaning commences\n",
    "FGS_clean_df = df.copy()"
   ]
  },
  {
   "cell_type": "markdown",
   "id": "d3f0a42a",
   "metadata": {},
   "source": [
    " ### Quality\n",
    " - The duration_sec is in sec, it should be converted to minutes and rename to duration_min and check for outliers"
   ]
  },
  {
   "cell_type": "markdown",
   "id": "b9d3257a",
   "metadata": {},
   "source": [
    " ### Define\n",
    " - The duration_sec should be converted to minutes, renamed and checked for outliers"
   ]
  },
  {
   "cell_type": "markdown",
   "id": "f370c7c4",
   "metadata": {},
   "source": [
    " ### Code"
   ]
  },
  {
   "cell_type": "code",
   "execution_count": 14,
   "id": "6a6b9bf2",
   "metadata": {},
   "outputs": [],
   "source": [
    "#Converting to minutes\n",
    "FGS_clean_df['duration_sec'] = FGS_clean_df['duration_sec']/60\n",
    "FGS_clean_df.rename(columns = {'duration_sec': 'duration_min'}, inplace=True)"
   ]
  },
  {
   "cell_type": "markdown",
   "id": "c8f5a048",
   "metadata": {},
   "source": [
    " ### Test"
   ]
  },
  {
   "cell_type": "code",
   "execution_count": 15,
   "id": "6884ad5a",
   "metadata": {},
   "outputs": [
    {
     "name": "stdout",
     "output_type": "stream",
     "text": [
      "<class 'pandas.core.frame.DataFrame'>\n",
      "RangeIndex: 183412 entries, 0 to 183411\n",
      "Data columns (total 16 columns):\n",
      " #   Column                   Non-Null Count   Dtype  \n",
      "---  ------                   --------------   -----  \n",
      " 0   duration_min             183412 non-null  float64\n",
      " 1   start_time               183412 non-null  object \n",
      " 2   end_time                 183412 non-null  object \n",
      " 3   start_station_id         183215 non-null  float64\n",
      " 4   start_station_name       183215 non-null  object \n",
      " 5   start_station_latitude   183412 non-null  float64\n",
      " 6   start_station_longitude  183412 non-null  float64\n",
      " 7   end_station_id           183215 non-null  float64\n",
      " 8   end_station_name         183215 non-null  object \n",
      " 9   end_station_latitude     183412 non-null  float64\n",
      " 10  end_station_longitude    183412 non-null  float64\n",
      " 11  bike_id                  183412 non-null  int64  \n",
      " 12  user_type                183412 non-null  object \n",
      " 13  member_birth_year        175147 non-null  float64\n",
      " 14  member_gender            175147 non-null  object \n",
      " 15  bike_share_for_all_trip  183412 non-null  object \n",
      "dtypes: float64(8), int64(1), object(7)\n",
      "memory usage: 22.4+ MB\n"
     ]
    }
   ],
   "source": [
    "#Checking if it was properly converted\n",
    "FGS_clean_df.info()"
   ]
  },
  {
   "cell_type": "code",
   "execution_count": 16,
   "id": "75c52acf",
   "metadata": {},
   "outputs": [],
   "source": [
    "#Checking for outliers\n",
    "Long_trip = FGS_clean_df['duration_min'].quantile(.99)\n",
    "FGS_clean_df = FGS_clean_df[FGS_clean_df['duration_min'] <= Long_trip]"
   ]
  },
  {
   "cell_type": "markdown",
   "id": "ab0aa9e2",
   "metadata": {},
   "source": [
    " ### Test"
   ]
  },
  {
   "cell_type": "code",
   "execution_count": 17,
   "id": "63d2d980",
   "metadata": {},
   "outputs": [
    {
     "data": {
      "text/html": [
       "<div>\n",
       "<style scoped>\n",
       "    .dataframe tbody tr th:only-of-type {\n",
       "        vertical-align: middle;\n",
       "    }\n",
       "\n",
       "    .dataframe tbody tr th {\n",
       "        vertical-align: top;\n",
       "    }\n",
       "\n",
       "    .dataframe thead th {\n",
       "        text-align: right;\n",
       "    }\n",
       "</style>\n",
       "<table border=\"1\" class=\"dataframe\">\n",
       "  <thead>\n",
       "    <tr style=\"text-align: right;\">\n",
       "      <th></th>\n",
       "      <th>duration_min</th>\n",
       "      <th>start_station_id</th>\n",
       "      <th>start_station_latitude</th>\n",
       "      <th>start_station_longitude</th>\n",
       "      <th>end_station_id</th>\n",
       "      <th>end_station_latitude</th>\n",
       "      <th>end_station_longitude</th>\n",
       "      <th>bike_id</th>\n",
       "      <th>member_birth_year</th>\n",
       "    </tr>\n",
       "  </thead>\n",
       "  <tbody>\n",
       "    <tr>\n",
       "      <th>count</th>\n",
       "      <td>181577.000000</td>\n",
       "      <td>181384.000000</td>\n",
       "      <td>181577.000000</td>\n",
       "      <td>181577.000000</td>\n",
       "      <td>181384.000000</td>\n",
       "      <td>181577.000000</td>\n",
       "      <td>181577.000000</td>\n",
       "      <td>181577.000000</td>\n",
       "      <td>173644.000000</td>\n",
       "    </tr>\n",
       "    <tr>\n",
       "      <th>mean</th>\n",
       "      <td>10.361683</td>\n",
       "      <td>138.493599</td>\n",
       "      <td>37.771182</td>\n",
       "      <td>-122.352444</td>\n",
       "      <td>135.993483</td>\n",
       "      <td>37.771377</td>\n",
       "      <td>-122.352014</td>\n",
       "      <td>4475.146208</td>\n",
       "      <td>1984.810843</td>\n",
       "    </tr>\n",
       "    <tr>\n",
       "      <th>std</th>\n",
       "      <td>7.384983</td>\n",
       "      <td>111.509893</td>\n",
       "      <td>0.099736</td>\n",
       "      <td>0.117209</td>\n",
       "      <td>111.153758</td>\n",
       "      <td>0.099636</td>\n",
       "      <td>0.116770</td>\n",
       "      <td>1662.852455</td>\n",
       "      <td>10.115064</td>\n",
       "    </tr>\n",
       "    <tr>\n",
       "      <th>min</th>\n",
       "      <td>1.016667</td>\n",
       "      <td>3.000000</td>\n",
       "      <td>37.317298</td>\n",
       "      <td>-122.453704</td>\n",
       "      <td>3.000000</td>\n",
       "      <td>37.317298</td>\n",
       "      <td>-122.453704</td>\n",
       "      <td>11.000000</td>\n",
       "      <td>1878.000000</td>\n",
       "    </tr>\n",
       "    <tr>\n",
       "      <th>25%</th>\n",
       "      <td>5.383333</td>\n",
       "      <td>47.000000</td>\n",
       "      <td>37.770083</td>\n",
       "      <td>-122.411901</td>\n",
       "      <td>44.000000</td>\n",
       "      <td>37.770407</td>\n",
       "      <td>-122.411726</td>\n",
       "      <td>3786.000000</td>\n",
       "      <td>1980.000000</td>\n",
       "    </tr>\n",
       "    <tr>\n",
       "      <th>50%</th>\n",
       "      <td>8.500000</td>\n",
       "      <td>104.000000</td>\n",
       "      <td>37.780760</td>\n",
       "      <td>-122.398285</td>\n",
       "      <td>100.000000</td>\n",
       "      <td>37.780955</td>\n",
       "      <td>-122.397437</td>\n",
       "      <td>4958.000000</td>\n",
       "      <td>1987.000000</td>\n",
       "    </tr>\n",
       "    <tr>\n",
       "      <th>75%</th>\n",
       "      <td>13.066667</td>\n",
       "      <td>239.000000</td>\n",
       "      <td>37.797280</td>\n",
       "      <td>-122.285171</td>\n",
       "      <td>233.000000</td>\n",
       "      <td>37.797320</td>\n",
       "      <td>-122.288045</td>\n",
       "      <td>5502.000000</td>\n",
       "      <td>1992.000000</td>\n",
       "    </tr>\n",
       "    <tr>\n",
       "      <th>max</th>\n",
       "      <td>57.633333</td>\n",
       "      <td>398.000000</td>\n",
       "      <td>37.880222</td>\n",
       "      <td>-121.874119</td>\n",
       "      <td>398.000000</td>\n",
       "      <td>37.880222</td>\n",
       "      <td>-121.874119</td>\n",
       "      <td>6645.000000</td>\n",
       "      <td>2001.000000</td>\n",
       "    </tr>\n",
       "  </tbody>\n",
       "</table>\n",
       "</div>"
      ],
      "text/plain": [
       "        duration_min  start_station_id  start_station_latitude  \\\n",
       "count  181577.000000     181384.000000           181577.000000   \n",
       "mean       10.361683        138.493599               37.771182   \n",
       "std         7.384983        111.509893                0.099736   \n",
       "min         1.016667          3.000000               37.317298   \n",
       "25%         5.383333         47.000000               37.770083   \n",
       "50%         8.500000        104.000000               37.780760   \n",
       "75%        13.066667        239.000000               37.797280   \n",
       "max        57.633333        398.000000               37.880222   \n",
       "\n",
       "       start_station_longitude  end_station_id  end_station_latitude  \\\n",
       "count            181577.000000   181384.000000         181577.000000   \n",
       "mean               -122.352444      135.993483             37.771377   \n",
       "std                   0.117209      111.153758              0.099636   \n",
       "min                -122.453704        3.000000             37.317298   \n",
       "25%                -122.411901       44.000000             37.770407   \n",
       "50%                -122.398285      100.000000             37.780955   \n",
       "75%                -122.285171      233.000000             37.797320   \n",
       "max                -121.874119      398.000000             37.880222   \n",
       "\n",
       "       end_station_longitude        bike_id  member_birth_year  \n",
       "count          181577.000000  181577.000000      173644.000000  \n",
       "mean             -122.352014    4475.146208        1984.810843  \n",
       "std                 0.116770    1662.852455          10.115064  \n",
       "min              -122.453704      11.000000        1878.000000  \n",
       "25%              -122.411726    3786.000000        1980.000000  \n",
       "50%              -122.397437    4958.000000        1987.000000  \n",
       "75%              -122.288045    5502.000000        1992.000000  \n",
       "max              -121.874119    6645.000000        2001.000000  "
      ]
     },
     "execution_count": 17,
     "metadata": {},
     "output_type": "execute_result"
    }
   ],
   "source": [
    "#Checking if code ran properly\n",
    "FGS_clean_df.describe()"
   ]
  },
  {
   "cell_type": "markdown",
   "id": "fee3248c",
   "metadata": {},
   "source": [
    " ###  Quality\n",
    "   - Missing rows like start_station_id, start_station_name, end_station_id, end_station_name, member_birth_year, and member_gender should be dropped"
   ]
  },
  {
   "cell_type": "markdown",
   "id": "a454f53f",
   "metadata": {},
   "source": [
    " ### Define\n",
    " - Create a function to remove missing rows like start_station_id, start_station_name, end_station_id, end_station_name, member_birth_year, and member_gender  "
   ]
  },
  {
   "cell_type": "markdown",
   "id": "255e7f64",
   "metadata": {},
   "source": [
    " ### Code"
   ]
  },
  {
   "cell_type": "code",
   "execution_count": 18,
   "id": "36610ca1",
   "metadata": {},
   "outputs": [],
   "source": [
    "#Getting the rows with null values\n",
    "Drop = FGS_clean_df[FGS_clean_df['start_station_id'].isnull()].index\n",
    "#Creating a function to drop the columns\n",
    "def drop_rows_cols(dframe, rows_cols, axis=0):\n",
    "    dframe.drop(rows_cols, axis=axis, inplace=True)\n",
    "    \n",
    "drop_rows_cols(FGS_clean_df, Drop)"
   ]
  },
  {
   "cell_type": "markdown",
   "id": "bde2e248",
   "metadata": {},
   "source": [
    " ### Test"
   ]
  },
  {
   "cell_type": "code",
   "execution_count": 19,
   "id": "071f1a04",
   "metadata": {},
   "outputs": [
    {
     "data": {
      "text/plain": [
       "duration_min                  0\n",
       "start_time                    0\n",
       "end_time                      0\n",
       "start_station_id              0\n",
       "start_station_name            0\n",
       "start_station_latitude        0\n",
       "start_station_longitude       0\n",
       "end_station_id                0\n",
       "end_station_name              0\n",
       "end_station_latitude          0\n",
       "end_station_longitude         0\n",
       "bike_id                       0\n",
       "user_type                     0\n",
       "member_birth_year          7931\n",
       "member_gender              7931\n",
       "bike_share_for_all_trip       0\n",
       "dtype: int64"
      ]
     },
     "execution_count": 19,
     "metadata": {},
     "output_type": "execute_result"
    }
   ],
   "source": [
    "FGS_clean_df.isnull().sum()"
   ]
  },
  {
   "cell_type": "markdown",
   "id": "ab4f97d6",
   "metadata": {},
   "source": [
    " ### Code"
   ]
  },
  {
   "cell_type": "code",
   "execution_count": 20,
   "id": "f4a7fa99",
   "metadata": {},
   "outputs": [],
   "source": [
    "#Dropping the member_birth_year by identifying the rows and calling the function created above to drop it\n",
    "Drop_gen = FGS_clean_df[FGS_clean_df['member_birth_year'].isnull()].index\n",
    "drop_rows_cols(FGS_clean_df, Drop_gen)"
   ]
  },
  {
   "cell_type": "markdown",
   "id": "2f11657a",
   "metadata": {},
   "source": [
    " ### Test"
   ]
  },
  {
   "cell_type": "code",
   "execution_count": 21,
   "id": "4d5c0f4b",
   "metadata": {},
   "outputs": [
    {
     "data": {
      "text/plain": [
       "duration_min               0\n",
       "start_time                 0\n",
       "end_time                   0\n",
       "start_station_id           0\n",
       "start_station_name         0\n",
       "start_station_latitude     0\n",
       "start_station_longitude    0\n",
       "end_station_id             0\n",
       "end_station_name           0\n",
       "end_station_latitude       0\n",
       "end_station_longitude      0\n",
       "bike_id                    0\n",
       "user_type                  0\n",
       "member_birth_year          0\n",
       "member_gender              0\n",
       "bike_share_for_all_trip    0\n",
       "dtype: int64"
      ]
     },
     "execution_count": 21,
     "metadata": {},
     "output_type": "execute_result"
    }
   ],
   "source": [
    "FGS_clean_df.isnull().sum()"
   ]
  },
  {
   "cell_type": "markdown",
   "id": "e369280b",
   "metadata": {},
   "source": [
    "  ### Quality\n",
    " - The datatype of bike_id, start_station_id and end_station_id should be object\n",
    " - The user_type and member_gender should be changed to categorical data\n",
    " - Start_time and end_time will be changed to datetime datatype\n",
    " - The member_birth_year should be int64"
   ]
  },
  {
   "cell_type": "markdown",
   "id": "91334d33",
   "metadata": {},
   "source": [
    " ### Define\n",
    " #### The following should be changed to their respective datatypes:\n",
    "   - The datatype of bike_id, start_station_id and end_station_id should be object\n",
    "   - The user_type and member_gender should be changed to categorical data\n",
    "   - Start_time and end_time will be changed to datetime datatype\n",
    "   - The member_birth_year should be int64"
   ]
  },
  {
   "cell_type": "markdown",
   "id": "aa0ff714",
   "metadata": {},
   "source": [
    " ### Code"
   ]
  },
  {
   "cell_type": "code",
   "execution_count": 22,
   "id": "113e4ac9",
   "metadata": {},
   "outputs": [],
   "source": [
    "# Creating a dictionary of the columns whose datatypes need changing\n",
    "correct_dtype= {'start_time': 'datetime64', \n",
    "                'end_time': 'datetime64',\n",
    "                'start_station_id': 'object',\n",
    "                'end_station_id': 'object',\n",
    "                'bike_id': 'object',\n",
    "               'user_type': 'category',\n",
    "               'member_gender': 'category',\n",
    "               'member_birth_year' : 'int64'}\n",
    "FGS_clean_df = FGS_clean_df.astype(correct_dtype)"
   ]
  },
  {
   "cell_type": "markdown",
   "id": "eedb69de",
   "metadata": {},
   "source": [
    " ### Test"
   ]
  },
  {
   "cell_type": "code",
   "execution_count": 23,
   "id": "d8184f3e",
   "metadata": {},
   "outputs": [
    {
     "name": "stdout",
     "output_type": "stream",
     "text": [
      "<class 'pandas.core.frame.DataFrame'>\n",
      "Int64Index: 173453 entries, 4 to 183411\n",
      "Data columns (total 16 columns):\n",
      " #   Column                   Non-Null Count   Dtype         \n",
      "---  ------                   --------------   -----         \n",
      " 0   duration_min             173453 non-null  float64       \n",
      " 1   start_time               173453 non-null  datetime64[ns]\n",
      " 2   end_time                 173453 non-null  datetime64[ns]\n",
      " 3   start_station_id         173453 non-null  object        \n",
      " 4   start_station_name       173453 non-null  object        \n",
      " 5   start_station_latitude   173453 non-null  float64       \n",
      " 6   start_station_longitude  173453 non-null  float64       \n",
      " 7   end_station_id           173453 non-null  object        \n",
      " 8   end_station_name         173453 non-null  object        \n",
      " 9   end_station_latitude     173453 non-null  float64       \n",
      " 10  end_station_longitude    173453 non-null  float64       \n",
      " 11  bike_id                  173453 non-null  object        \n",
      " 12  user_type                173453 non-null  category      \n",
      " 13  member_birth_year        173453 non-null  int64         \n",
      " 14  member_gender            173453 non-null  category      \n",
      " 15  bike_share_for_all_trip  173453 non-null  object        \n",
      "dtypes: category(2), datetime64[ns](2), float64(5), int64(1), object(6)\n",
      "memory usage: 20.2+ MB\n"
     ]
    }
   ],
   "source": [
    "#Checking if code ran properly\n",
    "FGS_clean_df.info()"
   ]
  },
  {
   "cell_type": "markdown",
   "id": "7aca0e4f",
   "metadata": {},
   "source": [
    " ### Quality\n",
    " - The member_birth_year can be used to create a column for member_age which can be of great use for analysis and check for outliers"
   ]
  },
  {
   "cell_type": "markdown",
   "id": "7f0dd867",
   "metadata": {},
   "source": [
    " ### Define\n",
    " - Create a member age column from member_birth_year and remove outliers"
   ]
  },
  {
   "cell_type": "markdown",
   "id": "67901a47",
   "metadata": {},
   "source": [
    " ### Code"
   ]
  },
  {
   "cell_type": "code",
   "execution_count": 24,
   "id": "639d4a45",
   "metadata": {},
   "outputs": [],
   "source": [
    "#Creating the column of member_age \n",
    "FGS_clean_df['member_age'] = 2019 - FGS_clean_df['member_birth_year']"
   ]
  },
  {
   "cell_type": "markdown",
   "id": "b1a15375",
   "metadata": {},
   "source": [
    " ### Test"
   ]
  },
  {
   "cell_type": "code",
   "execution_count": 25,
   "id": "9d775cb8",
   "metadata": {},
   "outputs": [
    {
     "data": {
      "text/html": [
       "<div>\n",
       "<style scoped>\n",
       "    .dataframe tbody tr th:only-of-type {\n",
       "        vertical-align: middle;\n",
       "    }\n",
       "\n",
       "    .dataframe tbody tr th {\n",
       "        vertical-align: top;\n",
       "    }\n",
       "\n",
       "    .dataframe thead th {\n",
       "        text-align: right;\n",
       "    }\n",
       "</style>\n",
       "<table border=\"1\" class=\"dataframe\">\n",
       "  <thead>\n",
       "    <tr style=\"text-align: right;\">\n",
       "      <th></th>\n",
       "      <th>duration_min</th>\n",
       "      <th>start_time</th>\n",
       "      <th>end_time</th>\n",
       "      <th>start_station_id</th>\n",
       "      <th>start_station_name</th>\n",
       "      <th>start_station_latitude</th>\n",
       "      <th>start_station_longitude</th>\n",
       "      <th>end_station_id</th>\n",
       "      <th>end_station_name</th>\n",
       "      <th>end_station_latitude</th>\n",
       "      <th>end_station_longitude</th>\n",
       "      <th>bike_id</th>\n",
       "      <th>user_type</th>\n",
       "      <th>member_birth_year</th>\n",
       "      <th>member_gender</th>\n",
       "      <th>bike_share_for_all_trip</th>\n",
       "      <th>member_age</th>\n",
       "    </tr>\n",
       "  </thead>\n",
       "  <tbody>\n",
       "    <tr>\n",
       "      <th>3247</th>\n",
       "      <td>24.250000</td>\n",
       "      <td>2019-02-28 17:09:14.188</td>\n",
       "      <td>2019-02-28 17:33:29.961</td>\n",
       "      <td>8.0</td>\n",
       "      <td>The Embarcadero at Vallejo St</td>\n",
       "      <td>37.799953</td>\n",
       "      <td>-122.398525</td>\n",
       "      <td>364.0</td>\n",
       "      <td>China Basin St at 3rd St</td>\n",
       "      <td>37.772000</td>\n",
       "      <td>-122.389970</td>\n",
       "      <td>6400</td>\n",
       "      <td>Customer</td>\n",
       "      <td>1997</td>\n",
       "      <td>Female</td>\n",
       "      <td>No</td>\n",
       "      <td>22</td>\n",
       "    </tr>\n",
       "    <tr>\n",
       "      <th>28868</th>\n",
       "      <td>6.033333</td>\n",
       "      <td>2019-02-25 08:17:31.755</td>\n",
       "      <td>2019-02-25 08:23:34.335</td>\n",
       "      <td>41.0</td>\n",
       "      <td>Golden Gate Ave at Polk St</td>\n",
       "      <td>37.781270</td>\n",
       "      <td>-122.418740</td>\n",
       "      <td>75.0</td>\n",
       "      <td>Market St at Franklin St</td>\n",
       "      <td>37.773793</td>\n",
       "      <td>-122.421239</td>\n",
       "      <td>4399</td>\n",
       "      <td>Subscriber</td>\n",
       "      <td>1964</td>\n",
       "      <td>Female</td>\n",
       "      <td>No</td>\n",
       "      <td>55</td>\n",
       "    </tr>\n",
       "    <tr>\n",
       "      <th>117613</th>\n",
       "      <td>9.483333</td>\n",
       "      <td>2019-02-11 20:54:16.402</td>\n",
       "      <td>2019-02-11 21:03:45.572</td>\n",
       "      <td>98.0</td>\n",
       "      <td>Valencia St at 16th St</td>\n",
       "      <td>37.765052</td>\n",
       "      <td>-122.421866</td>\n",
       "      <td>145.0</td>\n",
       "      <td>29th St at Church St</td>\n",
       "      <td>37.743684</td>\n",
       "      <td>-122.426806</td>\n",
       "      <td>5008</td>\n",
       "      <td>Subscriber</td>\n",
       "      <td>1988</td>\n",
       "      <td>Male</td>\n",
       "      <td>No</td>\n",
       "      <td>31</td>\n",
       "    </tr>\n",
       "    <tr>\n",
       "      <th>41517</th>\n",
       "      <td>22.916667</td>\n",
       "      <td>2019-02-22 18:12:04.779</td>\n",
       "      <td>2019-02-22 18:35:00.258</td>\n",
       "      <td>25.0</td>\n",
       "      <td>Howard St at 2nd St</td>\n",
       "      <td>37.787522</td>\n",
       "      <td>-122.397405</td>\n",
       "      <td>137.0</td>\n",
       "      <td>Jersey St at Castro St</td>\n",
       "      <td>37.750506</td>\n",
       "      <td>-122.433950</td>\n",
       "      <td>6098</td>\n",
       "      <td>Subscriber</td>\n",
       "      <td>1997</td>\n",
       "      <td>Male</td>\n",
       "      <td>No</td>\n",
       "      <td>22</td>\n",
       "    </tr>\n",
       "    <tr>\n",
       "      <th>136614</th>\n",
       "      <td>16.400000</td>\n",
       "      <td>2019-02-08 09:25:30.933</td>\n",
       "      <td>2019-02-08 09:41:55.469</td>\n",
       "      <td>134.0</td>\n",
       "      <td>Valencia St at 24th St</td>\n",
       "      <td>37.752428</td>\n",
       "      <td>-122.420628</td>\n",
       "      <td>49.0</td>\n",
       "      <td>S Park St at 3rd St</td>\n",
       "      <td>37.780760</td>\n",
       "      <td>-122.394989</td>\n",
       "      <td>5524</td>\n",
       "      <td>Subscriber</td>\n",
       "      <td>1984</td>\n",
       "      <td>Male</td>\n",
       "      <td>No</td>\n",
       "      <td>35</td>\n",
       "    </tr>\n",
       "  </tbody>\n",
       "</table>\n",
       "</div>"
      ],
      "text/plain": [
       "        duration_min              start_time                end_time  \\\n",
       "3247       24.250000 2019-02-28 17:09:14.188 2019-02-28 17:33:29.961   \n",
       "28868       6.033333 2019-02-25 08:17:31.755 2019-02-25 08:23:34.335   \n",
       "117613      9.483333 2019-02-11 20:54:16.402 2019-02-11 21:03:45.572   \n",
       "41517      22.916667 2019-02-22 18:12:04.779 2019-02-22 18:35:00.258   \n",
       "136614     16.400000 2019-02-08 09:25:30.933 2019-02-08 09:41:55.469   \n",
       "\n",
       "       start_station_id             start_station_name  \\\n",
       "3247                8.0  The Embarcadero at Vallejo St   \n",
       "28868              41.0     Golden Gate Ave at Polk St   \n",
       "117613             98.0         Valencia St at 16th St   \n",
       "41517              25.0            Howard St at 2nd St   \n",
       "136614            134.0         Valencia St at 24th St   \n",
       "\n",
       "        start_station_latitude  start_station_longitude end_station_id  \\\n",
       "3247                 37.799953              -122.398525          364.0   \n",
       "28868                37.781270              -122.418740           75.0   \n",
       "117613               37.765052              -122.421866          145.0   \n",
       "41517                37.787522              -122.397405          137.0   \n",
       "136614               37.752428              -122.420628           49.0   \n",
       "\n",
       "                end_station_name  end_station_latitude  end_station_longitude  \\\n",
       "3247    China Basin St at 3rd St             37.772000            -122.389970   \n",
       "28868   Market St at Franklin St             37.773793            -122.421239   \n",
       "117613      29th St at Church St             37.743684            -122.426806   \n",
       "41517     Jersey St at Castro St             37.750506            -122.433950   \n",
       "136614       S Park St at 3rd St             37.780760            -122.394989   \n",
       "\n",
       "       bike_id   user_type  member_birth_year member_gender  \\\n",
       "3247      6400    Customer               1997        Female   \n",
       "28868     4399  Subscriber               1964        Female   \n",
       "117613    5008  Subscriber               1988          Male   \n",
       "41517     6098  Subscriber               1997          Male   \n",
       "136614    5524  Subscriber               1984          Male   \n",
       "\n",
       "       bike_share_for_all_trip  member_age  \n",
       "3247                        No          22  \n",
       "28868                       No          55  \n",
       "117613                      No          31  \n",
       "41517                       No          22  \n",
       "136614                      No          35  "
      ]
     },
     "execution_count": 25,
     "metadata": {},
     "output_type": "execute_result"
    }
   ],
   "source": [
    "FGS_clean_df.sample(5)"
   ]
  },
  {
   "cell_type": "markdown",
   "id": "daa97328",
   "metadata": {},
   "source": [
    " ### Code"
   ]
  },
  {
   "cell_type": "code",
   "execution_count": 26,
   "id": "a77a6a46",
   "metadata": {},
   "outputs": [],
   "source": [
    "#Removing outliers\n",
    "out_of_range_age =FGS_clean_df['member_age'].quantile(.95)\n",
    "FGS_clean_df = FGS_clean_df[FGS_clean_df['member_age'] <= out_of_range_age]"
   ]
  },
  {
   "cell_type": "markdown",
   "id": "b6911f27",
   "metadata": {},
   "source": [
    " ### Test"
   ]
  },
  {
   "cell_type": "code",
   "execution_count": 27,
   "id": "062da99b",
   "metadata": {},
   "outputs": [
    {
     "data": {
      "text/html": [
       "<div>\n",
       "<style scoped>\n",
       "    .dataframe tbody tr th:only-of-type {\n",
       "        vertical-align: middle;\n",
       "    }\n",
       "\n",
       "    .dataframe tbody tr th {\n",
       "        vertical-align: top;\n",
       "    }\n",
       "\n",
       "    .dataframe thead th {\n",
       "        text-align: right;\n",
       "    }\n",
       "</style>\n",
       "<table border=\"1\" class=\"dataframe\">\n",
       "  <thead>\n",
       "    <tr style=\"text-align: right;\">\n",
       "      <th></th>\n",
       "      <th>duration_min</th>\n",
       "      <th>start_station_latitude</th>\n",
       "      <th>start_station_longitude</th>\n",
       "      <th>end_station_latitude</th>\n",
       "      <th>end_station_longitude</th>\n",
       "      <th>member_birth_year</th>\n",
       "      <th>member_age</th>\n",
       "    </tr>\n",
       "  </thead>\n",
       "  <tbody>\n",
       "    <tr>\n",
       "      <th>count</th>\n",
       "      <td>165630.000000</td>\n",
       "      <td>165630.000000</td>\n",
       "      <td>165630.000000</td>\n",
       "      <td>165630.000000</td>\n",
       "      <td>165630.000000</td>\n",
       "      <td>165630.000000</td>\n",
       "      <td>165630.000000</td>\n",
       "    </tr>\n",
       "    <tr>\n",
       "      <th>mean</th>\n",
       "      <td>10.223938</td>\n",
       "      <td>37.771026</td>\n",
       "      <td>-122.351305</td>\n",
       "      <td>37.771212</td>\n",
       "      <td>-122.350844</td>\n",
       "      <td>1986.113470</td>\n",
       "      <td>32.886530</td>\n",
       "    </tr>\n",
       "    <tr>\n",
       "      <th>std</th>\n",
       "      <td>7.223659</td>\n",
       "      <td>0.101037</td>\n",
       "      <td>0.118252</td>\n",
       "      <td>0.100934</td>\n",
       "      <td>0.117795</td>\n",
       "      <td>8.151881</td>\n",
       "      <td>8.151881</td>\n",
       "    </tr>\n",
       "    <tr>\n",
       "      <th>min</th>\n",
       "      <td>1.016667</td>\n",
       "      <td>37.317298</td>\n",
       "      <td>-122.453704</td>\n",
       "      <td>37.317298</td>\n",
       "      <td>-122.453704</td>\n",
       "      <td>1964.000000</td>\n",
       "      <td>18.000000</td>\n",
       "    </tr>\n",
       "    <tr>\n",
       "      <th>25%</th>\n",
       "      <td>5.350000</td>\n",
       "      <td>37.770407</td>\n",
       "      <td>-122.411901</td>\n",
       "      <td>37.770407</td>\n",
       "      <td>-122.411647</td>\n",
       "      <td>1981.000000</td>\n",
       "      <td>27.000000</td>\n",
       "    </tr>\n",
       "    <tr>\n",
       "      <th>50%</th>\n",
       "      <td>8.416667</td>\n",
       "      <td>37.780760</td>\n",
       "      <td>-122.398279</td>\n",
       "      <td>37.781010</td>\n",
       "      <td>-122.397405</td>\n",
       "      <td>1988.000000</td>\n",
       "      <td>31.000000</td>\n",
       "    </tr>\n",
       "    <tr>\n",
       "      <th>75%</th>\n",
       "      <td>12.916667</td>\n",
       "      <td>37.797320</td>\n",
       "      <td>-122.281193</td>\n",
       "      <td>37.797673</td>\n",
       "      <td>-122.283282</td>\n",
       "      <td>1992.000000</td>\n",
       "      <td>38.000000</td>\n",
       "    </tr>\n",
       "    <tr>\n",
       "      <th>max</th>\n",
       "      <td>57.616667</td>\n",
       "      <td>37.880222</td>\n",
       "      <td>-121.874119</td>\n",
       "      <td>37.880222</td>\n",
       "      <td>-121.874119</td>\n",
       "      <td>2001.000000</td>\n",
       "      <td>55.000000</td>\n",
       "    </tr>\n",
       "  </tbody>\n",
       "</table>\n",
       "</div>"
      ],
      "text/plain": [
       "        duration_min  start_station_latitude  start_station_longitude  \\\n",
       "count  165630.000000           165630.000000            165630.000000   \n",
       "mean       10.223938               37.771026              -122.351305   \n",
       "std         7.223659                0.101037                 0.118252   \n",
       "min         1.016667               37.317298              -122.453704   \n",
       "25%         5.350000               37.770407              -122.411901   \n",
       "50%         8.416667               37.780760              -122.398279   \n",
       "75%        12.916667               37.797320              -122.281193   \n",
       "max        57.616667               37.880222              -121.874119   \n",
       "\n",
       "       end_station_latitude  end_station_longitude  member_birth_year  \\\n",
       "count         165630.000000          165630.000000      165630.000000   \n",
       "mean              37.771212            -122.350844        1986.113470   \n",
       "std                0.100934               0.117795           8.151881   \n",
       "min               37.317298            -122.453704        1964.000000   \n",
       "25%               37.770407            -122.411647        1981.000000   \n",
       "50%               37.781010            -122.397405        1988.000000   \n",
       "75%               37.797673            -122.283282        1992.000000   \n",
       "max               37.880222            -121.874119        2001.000000   \n",
       "\n",
       "          member_age  \n",
       "count  165630.000000  \n",
       "mean       32.886530  \n",
       "std         8.151881  \n",
       "min        18.000000  \n",
       "25%        27.000000  \n",
       "50%        31.000000  \n",
       "75%        38.000000  \n",
       "max        55.000000  "
      ]
     },
     "execution_count": 27,
     "metadata": {},
     "output_type": "execute_result"
    }
   ],
   "source": [
    "#Checking to test our code\n",
    "FGS_clean_df.describe()"
   ]
  },
  {
   "cell_type": "markdown",
   "id": "8e2e06f0",
   "metadata": {},
   "source": [
    "  #### Tidiness\n",
    " - Day, Month and Year should be extracted from the start_time and end_time into a separate column"
   ]
  },
  {
   "cell_type": "markdown",
   "id": "28fbba4e",
   "metadata": {},
   "source": [
    " ### Define\n",
    "-  Split the start_time column into Day, Month, and Year column"
   ]
  },
  {
   "cell_type": "markdown",
   "id": "bb480572",
   "metadata": {},
   "source": [
    " ### Code"
   ]
  },
  {
   "cell_type": "code",
   "execution_count": 28,
   "id": "72faccdf",
   "metadata": {},
   "outputs": [],
   "source": [
    "#Creating the column for the day\n",
    "FGS_clean_df['day'] = FGS_clean_df['start_time'].dt.day_name().astype(str)\n",
    "#Creating the column for the month\n",
    "FGS_clean_df['month'] = FGS_clean_df['start_time'].dt.month_name().astype(str)\n",
    "#Creating the column for the year\n",
    "FGS_clean_df['year'] = FGS_clean_df['start_time'].dt.year.astype(str)"
   ]
  },
  {
   "cell_type": "markdown",
   "id": "1ce6af8a",
   "metadata": {},
   "source": [
    " ### Test"
   ]
  },
  {
   "cell_type": "code",
   "execution_count": 29,
   "id": "b3da0d6e",
   "metadata": {},
   "outputs": [
    {
     "data": {
      "text/html": [
       "<div>\n",
       "<style scoped>\n",
       "    .dataframe tbody tr th:only-of-type {\n",
       "        vertical-align: middle;\n",
       "    }\n",
       "\n",
       "    .dataframe tbody tr th {\n",
       "        vertical-align: top;\n",
       "    }\n",
       "\n",
       "    .dataframe thead th {\n",
       "        text-align: right;\n",
       "    }\n",
       "</style>\n",
       "<table border=\"1\" class=\"dataframe\">\n",
       "  <thead>\n",
       "    <tr style=\"text-align: right;\">\n",
       "      <th></th>\n",
       "      <th>duration_min</th>\n",
       "      <th>start_time</th>\n",
       "      <th>end_time</th>\n",
       "      <th>start_station_id</th>\n",
       "      <th>start_station_name</th>\n",
       "      <th>start_station_latitude</th>\n",
       "      <th>start_station_longitude</th>\n",
       "      <th>end_station_id</th>\n",
       "      <th>end_station_name</th>\n",
       "      <th>end_station_latitude</th>\n",
       "      <th>end_station_longitude</th>\n",
       "      <th>bike_id</th>\n",
       "      <th>user_type</th>\n",
       "      <th>member_birth_year</th>\n",
       "      <th>member_gender</th>\n",
       "      <th>bike_share_for_all_trip</th>\n",
       "      <th>member_age</th>\n",
       "      <th>day</th>\n",
       "      <th>month</th>\n",
       "      <th>year</th>\n",
       "    </tr>\n",
       "  </thead>\n",
       "  <tbody>\n",
       "    <tr>\n",
       "      <th>101489</th>\n",
       "      <td>10.750000</td>\n",
       "      <td>2019-02-14 17:26:08.181</td>\n",
       "      <td>2019-02-14 17:36:53.991</td>\n",
       "      <td>126.0</td>\n",
       "      <td>Esprit Park</td>\n",
       "      <td>37.761634</td>\n",
       "      <td>-122.390648</td>\n",
       "      <td>110.0</td>\n",
       "      <td>17th &amp; Folsom Street Park (17th St at Folsom St)</td>\n",
       "      <td>37.763708</td>\n",
       "      <td>-122.415204</td>\n",
       "      <td>4755</td>\n",
       "      <td>Subscriber</td>\n",
       "      <td>1995</td>\n",
       "      <td>Male</td>\n",
       "      <td>No</td>\n",
       "      <td>24</td>\n",
       "      <td>Thursday</td>\n",
       "      <td>February</td>\n",
       "      <td>2019</td>\n",
       "    </tr>\n",
       "    <tr>\n",
       "      <th>108267</th>\n",
       "      <td>6.816667</td>\n",
       "      <td>2019-02-13 08:59:21.732</td>\n",
       "      <td>2019-02-13 09:06:11.149</td>\n",
       "      <td>116.0</td>\n",
       "      <td>Mississippi St at 17th St</td>\n",
       "      <td>37.764802</td>\n",
       "      <td>-122.394771</td>\n",
       "      <td>81.0</td>\n",
       "      <td>Berry St at 4th St</td>\n",
       "      <td>37.775880</td>\n",
       "      <td>-122.393170</td>\n",
       "      <td>903</td>\n",
       "      <td>Subscriber</td>\n",
       "      <td>1990</td>\n",
       "      <td>Male</td>\n",
       "      <td>No</td>\n",
       "      <td>29</td>\n",
       "      <td>Wednesday</td>\n",
       "      <td>February</td>\n",
       "      <td>2019</td>\n",
       "    </tr>\n",
       "    <tr>\n",
       "      <th>49297</th>\n",
       "      <td>4.700000</td>\n",
       "      <td>2019-02-21 22:21:51.929</td>\n",
       "      <td>2019-02-21 22:26:34.343</td>\n",
       "      <td>158.0</td>\n",
       "      <td>Shattuck Ave at Telegraph Ave</td>\n",
       "      <td>37.833279</td>\n",
       "      <td>-122.263490</td>\n",
       "      <td>204.0</td>\n",
       "      <td>55th St at Telegraph Ave</td>\n",
       "      <td>37.840186</td>\n",
       "      <td>-122.261822</td>\n",
       "      <td>6393</td>\n",
       "      <td>Subscriber</td>\n",
       "      <td>1981</td>\n",
       "      <td>Female</td>\n",
       "      <td>No</td>\n",
       "      <td>38</td>\n",
       "      <td>Thursday</td>\n",
       "      <td>February</td>\n",
       "      <td>2019</td>\n",
       "    </tr>\n",
       "    <tr>\n",
       "      <th>159344</th>\n",
       "      <td>7.216667</td>\n",
       "      <td>2019-02-05 18:04:23.326</td>\n",
       "      <td>2019-02-05 18:11:36.906</td>\n",
       "      <td>60.0</td>\n",
       "      <td>8th St at Ringold St</td>\n",
       "      <td>37.774520</td>\n",
       "      <td>-122.409449</td>\n",
       "      <td>27.0</td>\n",
       "      <td>Beale St at Harrison St</td>\n",
       "      <td>37.788059</td>\n",
       "      <td>-122.391865</td>\n",
       "      <td>4976</td>\n",
       "      <td>Subscriber</td>\n",
       "      <td>1993</td>\n",
       "      <td>Male</td>\n",
       "      <td>No</td>\n",
       "      <td>26</td>\n",
       "      <td>Tuesday</td>\n",
       "      <td>February</td>\n",
       "      <td>2019</td>\n",
       "    </tr>\n",
       "    <tr>\n",
       "      <th>162095</th>\n",
       "      <td>8.583333</td>\n",
       "      <td>2019-02-05 12:46:48.139</td>\n",
       "      <td>2019-02-05 12:55:23.156</td>\n",
       "      <td>90.0</td>\n",
       "      <td>Townsend St at 7th St</td>\n",
       "      <td>37.771058</td>\n",
       "      <td>-122.402717</td>\n",
       "      <td>19.0</td>\n",
       "      <td>Post St at Kearny St</td>\n",
       "      <td>37.788975</td>\n",
       "      <td>-122.403452</td>\n",
       "      <td>4611</td>\n",
       "      <td>Subscriber</td>\n",
       "      <td>1989</td>\n",
       "      <td>Female</td>\n",
       "      <td>No</td>\n",
       "      <td>30</td>\n",
       "      <td>Tuesday</td>\n",
       "      <td>February</td>\n",
       "      <td>2019</td>\n",
       "    </tr>\n",
       "  </tbody>\n",
       "</table>\n",
       "</div>"
      ],
      "text/plain": [
       "        duration_min              start_time                end_time  \\\n",
       "101489     10.750000 2019-02-14 17:26:08.181 2019-02-14 17:36:53.991   \n",
       "108267      6.816667 2019-02-13 08:59:21.732 2019-02-13 09:06:11.149   \n",
       "49297       4.700000 2019-02-21 22:21:51.929 2019-02-21 22:26:34.343   \n",
       "159344      7.216667 2019-02-05 18:04:23.326 2019-02-05 18:11:36.906   \n",
       "162095      8.583333 2019-02-05 12:46:48.139 2019-02-05 12:55:23.156   \n",
       "\n",
       "       start_station_id             start_station_name  \\\n",
       "101489            126.0                    Esprit Park   \n",
       "108267            116.0      Mississippi St at 17th St   \n",
       "49297             158.0  Shattuck Ave at Telegraph Ave   \n",
       "159344             60.0           8th St at Ringold St   \n",
       "162095             90.0          Townsend St at 7th St   \n",
       "\n",
       "        start_station_latitude  start_station_longitude end_station_id  \\\n",
       "101489               37.761634              -122.390648          110.0   \n",
       "108267               37.764802              -122.394771           81.0   \n",
       "49297                37.833279              -122.263490          204.0   \n",
       "159344               37.774520              -122.409449           27.0   \n",
       "162095               37.771058              -122.402717           19.0   \n",
       "\n",
       "                                        end_station_name  \\\n",
       "101489  17th & Folsom Street Park (17th St at Folsom St)   \n",
       "108267                                Berry St at 4th St   \n",
       "49297                           55th St at Telegraph Ave   \n",
       "159344                           Beale St at Harrison St   \n",
       "162095                              Post St at Kearny St   \n",
       "\n",
       "        end_station_latitude  end_station_longitude bike_id   user_type  \\\n",
       "101489             37.763708            -122.415204    4755  Subscriber   \n",
       "108267             37.775880            -122.393170     903  Subscriber   \n",
       "49297              37.840186            -122.261822    6393  Subscriber   \n",
       "159344             37.788059            -122.391865    4976  Subscriber   \n",
       "162095             37.788975            -122.403452    4611  Subscriber   \n",
       "\n",
       "        member_birth_year member_gender bike_share_for_all_trip  member_age  \\\n",
       "101489               1995          Male                      No          24   \n",
       "108267               1990          Male                      No          29   \n",
       "49297                1981        Female                      No          38   \n",
       "159344               1993          Male                      No          26   \n",
       "162095               1989        Female                      No          30   \n",
       "\n",
       "              day     month  year  \n",
       "101489   Thursday  February  2019  \n",
       "108267  Wednesday  February  2019  \n",
       "49297    Thursday  February  2019  \n",
       "159344    Tuesday  February  2019  \n",
       "162095    Tuesday  February  2019  "
      ]
     },
     "execution_count": 29,
     "metadata": {},
     "output_type": "execute_result"
    }
   ],
   "source": [
    "#Checking if the code written works\n",
    "FGS_clean_df.sample(5)"
   ]
  },
  {
   "cell_type": "markdown",
   "id": "16130da2",
   "metadata": {},
   "source": [
    " ### Data Storage"
   ]
  },
  {
   "cell_type": "code",
   "execution_count": 30,
   "id": "2085d354",
   "metadata": {},
   "outputs": [],
   "source": [
    "#Storing our cleaned dataset to csv\n",
    "FGS_clean_df.to_csv('FordGoBikes.csv', index = False)"
   ]
  },
  {
   "cell_type": "markdown",
   "id": "c4be8d82",
   "metadata": {},
   "source": [
    "### Test"
   ]
  },
  {
   "cell_type": "code",
   "execution_count": 31,
   "id": "7c2385b2",
   "metadata": {},
   "outputs": [
    {
     "data": {
      "text/html": [
       "<div>\n",
       "<style scoped>\n",
       "    .dataframe tbody tr th:only-of-type {\n",
       "        vertical-align: middle;\n",
       "    }\n",
       "\n",
       "    .dataframe tbody tr th {\n",
       "        vertical-align: top;\n",
       "    }\n",
       "\n",
       "    .dataframe thead th {\n",
       "        text-align: right;\n",
       "    }\n",
       "</style>\n",
       "<table border=\"1\" class=\"dataframe\">\n",
       "  <thead>\n",
       "    <tr style=\"text-align: right;\">\n",
       "      <th></th>\n",
       "      <th>duration_min</th>\n",
       "      <th>start_time</th>\n",
       "      <th>end_time</th>\n",
       "      <th>start_station_id</th>\n",
       "      <th>start_station_name</th>\n",
       "      <th>start_station_latitude</th>\n",
       "      <th>start_station_longitude</th>\n",
       "      <th>end_station_id</th>\n",
       "      <th>end_station_name</th>\n",
       "      <th>end_station_latitude</th>\n",
       "      <th>end_station_longitude</th>\n",
       "      <th>bike_id</th>\n",
       "      <th>user_type</th>\n",
       "      <th>member_birth_year</th>\n",
       "      <th>member_gender</th>\n",
       "      <th>bike_share_for_all_trip</th>\n",
       "      <th>member_age</th>\n",
       "      <th>day</th>\n",
       "      <th>month</th>\n",
       "      <th>year</th>\n",
       "    </tr>\n",
       "  </thead>\n",
       "  <tbody>\n",
       "    <tr>\n",
       "      <th>0</th>\n",
       "      <td>26.416667</td>\n",
       "      <td>2019-02-28 23:54:18.549</td>\n",
       "      <td>2019-03-01 00:20:44.074</td>\n",
       "      <td>7.0</td>\n",
       "      <td>Frank H Ogawa Plaza</td>\n",
       "      <td>37.804562</td>\n",
       "      <td>-122.271738</td>\n",
       "      <td>222.0</td>\n",
       "      <td>10th Ave at E 15th St</td>\n",
       "      <td>37.792714</td>\n",
       "      <td>-122.248780</td>\n",
       "      <td>4898</td>\n",
       "      <td>Subscriber</td>\n",
       "      <td>1974</td>\n",
       "      <td>Male</td>\n",
       "      <td>Yes</td>\n",
       "      <td>45</td>\n",
       "      <td>Thursday</td>\n",
       "      <td>February</td>\n",
       "      <td>2019</td>\n",
       "    </tr>\n",
       "    <tr>\n",
       "      <th>1</th>\n",
       "      <td>19.116667</td>\n",
       "      <td>2019-02-28 23:55:35.104</td>\n",
       "      <td>2019-03-01 00:14:42.588</td>\n",
       "      <td>300.0</td>\n",
       "      <td>Palm St at Willow St</td>\n",
       "      <td>37.317298</td>\n",
       "      <td>-121.884995</td>\n",
       "      <td>312.0</td>\n",
       "      <td>San Jose Diridon Station</td>\n",
       "      <td>37.329732</td>\n",
       "      <td>-121.901782</td>\n",
       "      <td>3803</td>\n",
       "      <td>Subscriber</td>\n",
       "      <td>1983</td>\n",
       "      <td>Female</td>\n",
       "      <td>No</td>\n",
       "      <td>36</td>\n",
       "      <td>Thursday</td>\n",
       "      <td>February</td>\n",
       "      <td>2019</td>\n",
       "    </tr>\n",
       "    <tr>\n",
       "      <th>2</th>\n",
       "      <td>26.916667</td>\n",
       "      <td>2019-02-28 23:41:06.766</td>\n",
       "      <td>2019-03-01 00:08:02.756</td>\n",
       "      <td>10.0</td>\n",
       "      <td>Washington St at Kearny St</td>\n",
       "      <td>37.795393</td>\n",
       "      <td>-122.404770</td>\n",
       "      <td>127.0</td>\n",
       "      <td>Valencia St at 21st St</td>\n",
       "      <td>37.756708</td>\n",
       "      <td>-122.421025</td>\n",
       "      <td>6329</td>\n",
       "      <td>Subscriber</td>\n",
       "      <td>1989</td>\n",
       "      <td>Male</td>\n",
       "      <td>No</td>\n",
       "      <td>30</td>\n",
       "      <td>Thursday</td>\n",
       "      <td>February</td>\n",
       "      <td>2019</td>\n",
       "    </tr>\n",
       "    <tr>\n",
       "      <th>3</th>\n",
       "      <td>26.166667</td>\n",
       "      <td>2019-02-28 23:41:48.790</td>\n",
       "      <td>2019-03-01 00:07:59.715</td>\n",
       "      <td>10.0</td>\n",
       "      <td>Washington St at Kearny St</td>\n",
       "      <td>37.795393</td>\n",
       "      <td>-122.404770</td>\n",
       "      <td>127.0</td>\n",
       "      <td>Valencia St at 21st St</td>\n",
       "      <td>37.756708</td>\n",
       "      <td>-122.421025</td>\n",
       "      <td>6548</td>\n",
       "      <td>Subscriber</td>\n",
       "      <td>1988</td>\n",
       "      <td>Other</td>\n",
       "      <td>No</td>\n",
       "      <td>31</td>\n",
       "      <td>Thursday</td>\n",
       "      <td>February</td>\n",
       "      <td>2019</td>\n",
       "    </tr>\n",
       "    <tr>\n",
       "      <th>4</th>\n",
       "      <td>17.483333</td>\n",
       "      <td>2019-02-28 23:49:47.699</td>\n",
       "      <td>2019-03-01 00:07:17.025</td>\n",
       "      <td>19.0</td>\n",
       "      <td>Post St at Kearny St</td>\n",
       "      <td>37.788975</td>\n",
       "      <td>-122.403452</td>\n",
       "      <td>121.0</td>\n",
       "      <td>Mission Playground</td>\n",
       "      <td>37.759210</td>\n",
       "      <td>-122.421339</td>\n",
       "      <td>6488</td>\n",
       "      <td>Subscriber</td>\n",
       "      <td>1992</td>\n",
       "      <td>Male</td>\n",
       "      <td>No</td>\n",
       "      <td>27</td>\n",
       "      <td>Thursday</td>\n",
       "      <td>February</td>\n",
       "      <td>2019</td>\n",
       "    </tr>\n",
       "  </tbody>\n",
       "</table>\n",
       "</div>"
      ],
      "text/plain": [
       "   duration_min               start_time                 end_time  \\\n",
       "0     26.416667  2019-02-28 23:54:18.549  2019-03-01 00:20:44.074   \n",
       "1     19.116667  2019-02-28 23:55:35.104  2019-03-01 00:14:42.588   \n",
       "2     26.916667  2019-02-28 23:41:06.766  2019-03-01 00:08:02.756   \n",
       "3     26.166667  2019-02-28 23:41:48.790  2019-03-01 00:07:59.715   \n",
       "4     17.483333  2019-02-28 23:49:47.699  2019-03-01 00:07:17.025   \n",
       "\n",
       "   start_station_id          start_station_name  start_station_latitude  \\\n",
       "0               7.0         Frank H Ogawa Plaza               37.804562   \n",
       "1             300.0        Palm St at Willow St               37.317298   \n",
       "2              10.0  Washington St at Kearny St               37.795393   \n",
       "3              10.0  Washington St at Kearny St               37.795393   \n",
       "4              19.0        Post St at Kearny St               37.788975   \n",
       "\n",
       "   start_station_longitude  end_station_id          end_station_name  \\\n",
       "0              -122.271738           222.0     10th Ave at E 15th St   \n",
       "1              -121.884995           312.0  San Jose Diridon Station   \n",
       "2              -122.404770           127.0    Valencia St at 21st St   \n",
       "3              -122.404770           127.0    Valencia St at 21st St   \n",
       "4              -122.403452           121.0        Mission Playground   \n",
       "\n",
       "   end_station_latitude  end_station_longitude  bike_id   user_type  \\\n",
       "0             37.792714            -122.248780     4898  Subscriber   \n",
       "1             37.329732            -121.901782     3803  Subscriber   \n",
       "2             37.756708            -122.421025     6329  Subscriber   \n",
       "3             37.756708            -122.421025     6548  Subscriber   \n",
       "4             37.759210            -122.421339     6488  Subscriber   \n",
       "\n",
       "   member_birth_year member_gender bike_share_for_all_trip  member_age  \\\n",
       "0               1974          Male                     Yes          45   \n",
       "1               1983        Female                      No          36   \n",
       "2               1989          Male                      No          30   \n",
       "3               1988         Other                      No          31   \n",
       "4               1992          Male                      No          27   \n",
       "\n",
       "        day     month  year  \n",
       "0  Thursday  February  2019  \n",
       "1  Thursday  February  2019  \n",
       "2  Thursday  February  2019  \n",
       "3  Thursday  February  2019  \n",
       "4  Thursday  February  2019  "
      ]
     },
     "execution_count": 31,
     "metadata": {},
     "output_type": "execute_result"
    }
   ],
   "source": [
    "FGB = pd.read_csv('FordGoBikes.csv')\n",
    "FGB.head()"
   ]
  },
  {
   "cell_type": "markdown",
   "id": "c3bbb30f",
   "metadata": {},
   "source": [
    " ## Exploratory Data Analysis"
   ]
  },
  {
   "cell_type": "markdown",
   "id": "676af0c2",
   "metadata": {},
   "source": [
    " ### Univariate Exploration"
   ]
  },
  {
   "cell_type": "markdown",
   "id": "fd03567f",
   "metadata": {},
   "source": [
    " ###  Which day of the week has the most trips?"
   ]
  },
  {
   "cell_type": "code",
   "execution_count": 32,
   "id": "a56f3ea5",
   "metadata": {},
   "outputs": [
    {
     "data": {
      "image/png": "[encoded data removed]",
      "text/plain": [
       "<Figure size 720x576 with 1 Axes>"
      ]
     },
     "metadata": {
      "needs_background": "light"
     },
     "output_type": "display_data"
    }
   ],
   "source": [
    "#Creating visuals to answer my question\n",
    "base_color = sns.color_palette()[0]\n",
    "day_name = [\"Sunday\", \"Monday\",\"Tuesday\",\"Wednesday\",\"Thursday\",\"Friday\",\"Saturday\"]\n",
    "plt.figure(figsize=(10,8))\n",
    "sns.countplot(data=FGB, x= 'day', color=base_color, order=day_name)\n",
    "plt.title('Bike Ride', fontsize=16)\n",
    "plt.ylabel('Number Of Ride', fontsize=16)\n",
    "plt.xlabel('Day Of The Week', fontsize=16);"
   ]
  },
  {
   "cell_type": "markdown",
   "id": "36085a22",
   "metadata": {},
   "source": [
    " #### The most trips were taken on Thursday"
   ]
  },
  {
   "cell_type": "markdown",
   "id": "2973f00f",
   "metadata": {},
   "source": [
    " ### What is the top 10 Start Station with the most Rides?"
   ]
  },
  {
   "cell_type": "code",
   "execution_count": 33,
   "id": "f00402c7",
   "metadata": {},
   "outputs": [
    {
     "data": {
      "image/png": "[encoded data removed]",
      "text/plain": [
       "<Figure size 720x576 with 1 Axes>"
      ]
     },
     "metadata": {
      "needs_background": "light"
     },
     "output_type": "display_data"
    }
   ],
   "source": [
    "plt.figure(figsize=(10,8))\n",
    "FGB['start_station_name'].value_counts().head(10).plot.barh()\n",
    "plt.gca().invert_yaxis()\n",
    "plt.title('Top 10 Station With The Most Ride', fontsize=15)\n",
    "plt.ylabel('Start Station', fontsize=15)\n",
    "plt.xlabel('Total Rides', fontsize=15);"
   ]
  },
  {
   "cell_type": "markdown",
   "id": "cda350e9",
   "metadata": {},
   "source": [
    " #### Observation: Market Street at 10th Street had the highest Bike Trips"
   ]
  },
  {
   "cell_type": "markdown",
   "id": "a601c34f",
   "metadata": {},
   "source": [
    " ### What is the top 10 Start Station with the least Rides ?"
   ]
  },
  {
   "cell_type": "code",
   "execution_count": 34,
   "id": "5f561573",
   "metadata": {
    "scrolled": false
   },
   "outputs": [
    {
     "data": {
      "image/png": "[encoded data removed]",
      "text/plain": [
       "<Figure size 720x576 with 1 Axes>"
      ]
     },
     "metadata": {
      "needs_background": "light"
     },
     "output_type": "display_data"
    }
   ],
   "source": [
    "plt.figure(figsize=(10,8))\n",
    "FGB['start_station_name'].value_counts().tail(10).plot.barh()\n",
    "plt.gca().invert_yaxis()\n",
    "plt.title('Top 10 Station With The Least Ride', fontsize=15)\n",
    "plt.ylabel('Start Station', fontsize=15)\n",
    "plt.xlabel('Total Rides', fontsize=15);"
   ]
  },
  {
   "cell_type": "markdown",
   "id": "10abe8a9",
   "metadata": {},
   "source": [
    " #### Observation: 16th Street Depot had the lowest bike trips "
   ]
  },
  {
   "cell_type": "markdown",
   "id": "fd1819f3",
   "metadata": {},
   "source": [
    " ### The top 10 End Station with the most Rides?"
   ]
  },
  {
   "cell_type": "code",
   "execution_count": 35,
   "id": "9f61a9b1",
   "metadata": {},
   "outputs": [
    {
     "data": {
      "image/png": "[encoded data removed]",
      "text/plain": [
       "<Figure size 720x576 with 1 Axes>"
      ]
     },
     "metadata": {
      "needs_background": "light"
     },
     "output_type": "display_data"
    }
   ],
   "source": [
    "plt.figure(figsize=(10,8))\n",
    "FGB['end_station_name'].value_counts().head(10).plot.barh()\n",
    "plt.gca().invert_yaxis()\n",
    "plt.title('Top 10 Station With The highest stoppage of rides', fontsize=15)\n",
    "plt.ylabel('End Station', fontsize=15)\n",
    "plt.xlabel('Total Rides', fontsize=15);"
   ]
  },
  {
   "cell_type": "markdown",
   "id": "31fd9574",
   "metadata": {},
   "source": [
    " #### Observation: Most rides terminated at San Francisco Caltrain Station 2 which means people visit there alot"
   ]
  },
  {
   "cell_type": "markdown",
   "id": "98bf495f",
   "metadata": {},
   "source": [
    " ### The top 10 End Station with the least Rides?"
   ]
  },
  {
   "cell_type": "code",
   "execution_count": 36,
   "id": "8f1b9411",
   "metadata": {
    "scrolled": false
   },
   "outputs": [
    {
     "data": {
      "image/png": "[encoded data removed]",
      "text/plain": [
       "<Figure size 720x576 with 1 Axes>"
      ]
     },
     "metadata": {
      "needs_background": "light"
     },
     "output_type": "display_data"
    }
   ],
   "source": [
    "plt.figure(figsize=(10,8))\n",
    "FGB['end_station_name'].value_counts().tail(10).plot.barh()\n",
    "plt.gca().invert_yaxis()\n",
    "plt.title('Top 10 Station With The highest stoppage of rides', fontsize=15)\n",
    "plt.ylabel('End Station', fontsize=15)\n",
    "plt.xlabel('Total Rides', fontsize=15);"
   ]
  },
  {
   "cell_type": "markdown",
   "id": "1e77dce4",
   "metadata": {},
   "source": [
    " #### Observation: The station with the least stoppage of rides is Willow Street at Vine Street which means people hardly go there "
   ]
  },
  {
   "cell_type": "markdown",
   "id": "760a5016",
   "metadata": {},
   "source": [
    "### The most bicycle service users?"
   ]
  },
  {
   "cell_type": "code",
   "execution_count": 37,
   "id": "89b34206",
   "metadata": {},
   "outputs": [
    {
     "data": {
      "image/png": "[encoded data removed]",
      "text/plain": [
       "<Figure size 720x432 with 1 Axes>"
      ]
     },
     "metadata": {},
     "output_type": "display_data"
    }
   ],
   "source": [
    "plt.figure(figsize=(10,6))\n",
    "sorted_counts = FGB['user_type'].value_counts()\n",
    "plt.pie(sorted_counts, labels = sorted_counts.index, startangle = 90,\n",
    "        counterclock = False, autopct='%1.2f%%');\n",
    "plt.axis('square')\n",
    "plt.title('Bike User Count Comparison', fontsize=15);"
   ]
  },
  {
   "cell_type": "markdown",
   "id": "e0d6be3d",
   "metadata": {},
   "source": [
    "#### Observation: We have more of the subscriber  users than that of customers "
   ]
  },
  {
   "cell_type": "markdown",
   "id": "8ac0fd68",
   "metadata": {},
   "source": [
    " ### Which member gender had the most distribution?"
   ]
  },
  {
   "cell_type": "code",
   "execution_count": 38,
   "id": "d66bdc71",
   "metadata": {},
   "outputs": [
    {
     "data": {
      "image/png": "[encoded data removed]",
      "text/plain": [
       "<Figure size 720x576 with 1 Axes>"
      ]
     },
     "metadata": {
      "needs_background": "light"
     },
     "output_type": "display_data"
    }
   ],
   "source": [
    "plt.figure(figsize=(10,8))\n",
    "sns.countplot(data=FGB, x='member_gender', color=base_color)\n",
    "plt.title('Members Gender Distribution', fontsize=16)\n",
    "plt.ylabel('Number', fontsize=16)\n",
    "plt.xlabel('Gender', fontsize=16);"
   ]
  },
  {
   "cell_type": "markdown",
   "id": "6e4d104f",
   "metadata": {},
   "source": [
    " ####  Observation: We have more of the Male users than that of Females and Others "
   ]
  },
  {
   "cell_type": "markdown",
   "id": "cfd8647d",
   "metadata": {},
   "source": [
    " ## What is the rate at which users shared their bikes during their trips ?"
   ]
  },
  {
   "cell_type": "code",
   "execution_count": 39,
   "id": "d07c28ee",
   "metadata": {},
   "outputs": [
    {
     "data": {
      "image/png": "[encoded data removed]",
      "text/plain": [
       "<Figure size 720x432 with 1 Axes>"
      ]
     },
     "metadata": {},
     "output_type": "display_data"
    }
   ],
   "source": [
    "plt.figure(figsize=(10,6))\n",
    "sorted_counts = FGB['bike_share_for_all_trip'].value_counts()\n",
    "plt.pie(sorted_counts, labels = sorted_counts.index, startangle = 90,\n",
    "        counterclock = False, autopct='%1.2f%%');\n",
    "plt.axis('square')\n",
    "plt.title('Bike Share For All Trips', fontsize=15);"
   ]
  },
  {
   "cell_type": "markdown",
   "id": "b0a352f8",
   "metadata": {},
   "source": [
    " #### Observation: From the pie chart above we can say we have more users who used their bikes for their rides and didnt share"
   ]
  },
  {
   "cell_type": "markdown",
   "id": "0aeb1135",
   "metadata": {},
   "source": [
    " ## Bivariate Exploration"
   ]
  },
  {
   "cell_type": "markdown",
   "id": "fb73ebb6",
   "metadata": {},
   "source": [
    " ### What is the relationship between the member_gender and the user_type ?"
   ]
  },
  {
   "cell_type": "code",
   "execution_count": 40,
   "id": "0f68d768",
   "metadata": {
    "scrolled": false
   },
   "outputs": [
    {
     "data": {
      "image/png": "[encoded data removed]",
      "text/plain": [
       "<Figure size 720x576 with 1 Axes>"
      ]
     },
     "metadata": {
      "needs_background": "light"
     },
     "output_type": "display_data"
    }
   ],
   "source": [
    "#Creating a barchart\n",
    "plt.figure(figsize=(10,8))\n",
    "sns.countplot(data=FGB, x='member_gender', color=base_color, hue='user_type', edgecolor='black')\n",
    "plt.title('Gender by User Types ', fontsize=16)\n",
    "plt.ylabel('Number', fontsize=16)\n",
    "plt.xlabel('Gender', fontsize=16);"
   ]
  },
  {
   "cell_type": "markdown",
   "id": "04bd0b16",
   "metadata": {},
   "source": [
    " #### Observation: We have more of male than female based on the user type"
   ]
  },
  {
   "cell_type": "markdown",
   "id": "c5a144f0",
   "metadata": {},
   "source": [
    " ### What is the relationship between the duration and age ?"
   ]
  },
  {
   "cell_type": "code",
   "execution_count": 41,
   "id": "59b85962",
   "metadata": {
    "scrolled": false
   },
   "outputs": [
    {
     "data": {
      "image/png": "[encoded data removed]",
      "text/plain": [
       "<Figure size 720x432 with 2 Axes>"
      ]
     },
     "metadata": {
      "needs_background": "light"
     },
     "output_type": "display_data"
    }
   ],
   "source": [
    "#Creating a heatmap\n",
    "plt.figure(figsize = (10,6))\n",
    "plt.hist2d(data = FGB, x = 'member_age', y = 'duration_min')\n",
    "plt.xlabel('Members age', fontsize = 15)\n",
    "plt.ylabel('Duration in min', fontsize = 15)\n",
    "plt.title('Duration used based on ages', fontsize = 17)\n",
    "plt.colorbar();"
   ]
  },
  {
   "cell_type": "markdown",
   "id": "787f2fb9",
   "metadata": {},
   "source": [
    " #### Observation: The ages from 25-30 yrs spent more time as users"
   ]
  },
  {
   "cell_type": "markdown",
   "id": "2a911378",
   "metadata": {},
   "source": [
    " ### What is the variability Of Age Distribution?"
   ]
  },
  {
   "cell_type": "code",
   "execution_count": 42,
   "id": "c32735e4",
   "metadata": {},
   "outputs": [
    {
     "data": {
      "image/png": "[encoded data removed]",
      "text/plain": [
       "<Figure size 576x432 with 1 Axes>"
      ]
     },
     "metadata": {
      "needs_background": "light"
     },
     "output_type": "display_data"
    }
   ],
   "source": [
    "plt.figure(figsize=(8,6))\n",
    "sns.boxplot(data=FGB, x='user_type', y='member_age')\n",
    "plt.title('Distribution of Age', fontsize=16)\n",
    "plt.ylabel('Ages', fontsize=16)\n",
    "plt.xlabel('Type of Users', fontsize=16);"
   ]
  },
  {
   "cell_type": "markdown",
   "id": "0357ffbe",
   "metadata": {},
   "source": [
    " #### Observation: there is less variability in the age distribution of the customer than the age distribution of the subscriber"
   ]
  },
  {
   "cell_type": "markdown",
   "id": "fb8060f3",
   "metadata": {},
   "source": [
    " ### Which gender went on a trip most in the days of the week ? and what day is that?"
   ]
  },
  {
   "cell_type": "code",
   "execution_count": 43,
   "id": "5741f851",
   "metadata": {},
   "outputs": [
    {
     "data": {
      "image/png": "[encoded data removed]",
      "text/plain": [
       "<Figure size 720x576 with 1 Axes>"
      ]
     },
     "metadata": {
      "needs_background": "light"
     },
     "output_type": "display_data"
    }
   ],
   "source": [
    "plt.figure(figsize=(10,8))\n",
    "sns.countplot(data=FGB, x='day', color=base_color, hue='member_gender', order = day_name)\n",
    "plt.title('Gender by TripDays', fontsize=16)\n",
    "plt.ylabel('Days of the week', fontsize=16)\n",
    "plt.xlabel('Gender', fontsize=16);"
   ]
  },
  {
   "cell_type": "markdown",
   "id": "2dd17dd4",
   "metadata": {},
   "source": [
    " #### Observation: We have more male who go out on thursday and more females who also go out on thursdays"
   ]
  },
  {
   "cell_type": "markdown",
   "id": "f90f2341",
   "metadata": {},
   "source": [
    " ### Multivariate Exploration"
   ]
  },
  {
   "cell_type": "markdown",
   "id": "bc9db42d",
   "metadata": {},
   "source": [
    " ### What is the distribution of Member Age by day based on Gender ?"
   ]
  },
  {
   "cell_type": "code",
   "execution_count": 44,
   "id": "f775897d",
   "metadata": {
    "scrolled": false
   },
   "outputs": [
    {
     "data": {
      "image/png": "[encoded data removed]",
      "text/plain": [
       "<Figure size 720x576 with 1 Axes>"
      ]
     },
     "metadata": {
      "needs_background": "light"
     },
     "output_type": "display_data"
    }
   ],
   "source": [
    "plt.figure(figsize=(10,8))\n",
    "sns.barplot(x='day', y='member_age', data=FGB, hue='member_gender', order=day_name)\n",
    "plt.legend(loc='upper right', title=\"Gender\")\n",
    "plt.title('Distribution of Member Age by day based on Gender', fontsize=16)\n",
    "plt.xlabel('Day Of The Week', fontsize=16)\n",
    "plt.ylabel(' Members Age', fontsize=16);"
   ]
  },
  {
   "cell_type": "markdown",
   "id": "c18b5e6e",
   "metadata": {},
   "source": [
    " #### Observation: The barplot indicates that the oldest rider on any given day of the week is always the  other gender"
   ]
  },
  {
   "cell_type": "markdown",
   "id": "f3b670b1",
   "metadata": {},
   "source": [
    " ### What is the relationship between the member_gender, duration_minutes and user_type ?"
   ]
  },
  {
   "cell_type": "code",
   "execution_count": 45,
   "id": "8d076cdf",
   "metadata": {},
   "outputs": [
    {
     "data": {
      "image/png": "[encoded data removed]",
      "text/plain": [
       "<Figure size 720x576 with 1 Axes>"
      ]
     },
     "metadata": {
      "needs_background": "light"
     },
     "output_type": "display_data"
    }
   ],
   "source": [
    "plt.figure(figsize=(10,8))\n",
    "sns.barplot(x='member_gender', y='duration_min', data=FGB, hue='user_type')\n",
    "plt.legend(loc='upper right', title=\"User_Type\")\n",
    "plt.title('Distribution of Member Gender Duration Minutes based on User Type', fontsize=16)\n",
    "plt.xlabel('Gender', fontsize=16)\n",
    "plt.ylabel(' Duration in Minutes', fontsize=16);"
   ]
  },
  {
   "cell_type": "markdown",
   "id": "26900d1b",
   "metadata": {},
   "source": [
    " #### Observation: We have more of the customer users than subscriber in terms of gender"
   ]
  },
  {
   "cell_type": "markdown",
   "id": "17618bd0",
   "metadata": {},
   "source": [
    " ### Is there a relationship Between the numerical values ?"
   ]
  },
  {
   "cell_type": "code",
   "execution_count": 46,
   "id": "d508e1de",
   "metadata": {},
   "outputs": [
    {
     "data": {
      "image/png": "[encoded data removed]",
      "text/plain": [
       "<Figure size 720x432 with 2 Axes>"
      ]
     },
     "metadata": {
      "needs_background": "light"
     },
     "output_type": "display_data"
    }
   ],
   "source": [
    "plt.figure(figsize = (10, 6))\n",
    "sns.heatmap(FGB.corr(), annot = True, fmt = '.2f', cmap = 'coolwarm')\n",
    "plt.title('Relationship Between numerical values', fontsize = 18)\n",
    "plt.show();"
   ]
  },
  {
   "cell_type": "markdown",
   "id": "36b21d68",
   "metadata": {},
   "source": [
    " #### Observation: The start_station_latitude and the start_station_longitude got correlated negatively with a correlation coefficient of 0.68"
   ]
  },
  {
   "cell_type": "markdown",
   "id": "c308e485",
   "metadata": {},
   "source": [
    " ## Conclusions\n",
    " - After our analysis, it became obvious to us that Thursday tends to be the day with the most trips and it is the male gender that goes out more on a trip on that particular day.\n",
    " - It was also observed that the start station with the most ride is Market Street at 10th Street which tells us that the services rendered their on getting a successful trip is high.\n",
    " - Also a pattern was traced that lead us to figure out that we have more user of the subscribers than that of the customers which shows that the subscribers are member users and the customers are casual users.\n",
    " - Finally it was discovered that most of the subscribers are mostly the male gender."
   ]
  }
 ],
 "metadata": {
  "kernelspec": {
   "display_name": "Python 3 (ipykernel)",
   "language": "python",
   "name": "python3"
  },
  "language_info": {
   "codemirror_mode": {
    "name": "ipython",
    "version": 3
   },
   "file_extension": ".py",
   "mimetype": "text/x-python",
   "name": "python",
   "nbconvert_exporter": "python",
   "pygments_lexer": "ipython3",
   "version": "3.9.12"
  }
 },
 "nbformat": 4,
 "nbformat_minor": 5
}
